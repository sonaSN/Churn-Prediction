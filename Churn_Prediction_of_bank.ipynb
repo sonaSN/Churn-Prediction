{
  "nbformat": 4,
  "nbformat_minor": 0,
  "metadata": {
    "colab": {
      "name": "Churn Prediction of  bank.ipynb",
      "provenance": [],
      "collapsed_sections": [],
      "toc_visible": true
    },
    "kernelspec": {
      "name": "python3",
      "display_name": "Python 3"
    }
  },
  "cells": [
    {
      "cell_type": "markdown",
      "metadata": {
        "id": "fYnnT__1F_FM"
      },
      "source": [
        "#Import libraries"
      ]
    },
    {
      "cell_type": "code",
      "metadata": {
        "id": "tqUnjQkdtZHr"
      },
      "source": [
        "import numpy as np\r\n",
        "import pandas as pd\r\n",
        "from matplotlib import pyplot as plt\r\n",
        "from sklearn.metrics import confusion_matrix , classification_report\r\n",
        "import seaborn as sns\r\n",
        "import tensorflow as tf\r\n",
        "from tensorflow import keras\r\n",
        "from sklearn.model_selection import train_test_split\r\n",
        "from sklearn.preprocessing import MinMaxScaler\r\n",
        "#matplotlib inline"
      ],
      "execution_count": 1,
      "outputs": []
    },
    {
      "cell_type": "markdown",
      "metadata": {
        "id": "dwJgJk6m5iP5"
      },
      "source": [
        "#Dataset overview"
      ]
    },
    {
      "cell_type": "code",
      "metadata": {
        "colab": {
          "base_uri": "https://localhost:8080/",
          "height": 224
        },
        "id": "56uPak6Dte4-",
        "outputId": "c0f2a4c4-bbec-4c08-85e1-9146d68846d6"
      },
      "source": [
        "df=pd.read_csv(\"/content/Churn_Modelling.csv\")\r\n",
        "df.head(5)"
      ],
      "execution_count": 2,
      "outputs": [
        {
          "output_type": "execute_result",
          "data": {
            "text/html": [
              "<div>\n",
              "<style scoped>\n",
              "    .dataframe tbody tr th:only-of-type {\n",
              "        vertical-align: middle;\n",
              "    }\n",
              "\n",
              "    .dataframe tbody tr th {\n",
              "        vertical-align: top;\n",
              "    }\n",
              "\n",
              "    .dataframe thead th {\n",
              "        text-align: right;\n",
              "    }\n",
              "</style>\n",
              "<table border=\"1\" class=\"dataframe\">\n",
              "  <thead>\n",
              "    <tr style=\"text-align: right;\">\n",
              "      <th></th>\n",
              "      <th>RowNumber</th>\n",
              "      <th>CustomerId</th>\n",
              "      <th>Surname</th>\n",
              "      <th>CreditScore</th>\n",
              "      <th>Geography</th>\n",
              "      <th>Gender</th>\n",
              "      <th>Age</th>\n",
              "      <th>Tenure</th>\n",
              "      <th>Balance</th>\n",
              "      <th>NumOfProducts</th>\n",
              "      <th>HasCrCard</th>\n",
              "      <th>IsActiveMember</th>\n",
              "      <th>EstimatedSalary</th>\n",
              "      <th>Exited</th>\n",
              "    </tr>\n",
              "  </thead>\n",
              "  <tbody>\n",
              "    <tr>\n",
              "      <th>0</th>\n",
              "      <td>1</td>\n",
              "      <td>15634602</td>\n",
              "      <td>Hargrave</td>\n",
              "      <td>619</td>\n",
              "      <td>France</td>\n",
              "      <td>Female</td>\n",
              "      <td>42</td>\n",
              "      <td>2</td>\n",
              "      <td>0.00</td>\n",
              "      <td>1</td>\n",
              "      <td>1</td>\n",
              "      <td>1</td>\n",
              "      <td>101348.88</td>\n",
              "      <td>1</td>\n",
              "    </tr>\n",
              "    <tr>\n",
              "      <th>1</th>\n",
              "      <td>2</td>\n",
              "      <td>15647311</td>\n",
              "      <td>Hill</td>\n",
              "      <td>608</td>\n",
              "      <td>Spain</td>\n",
              "      <td>Female</td>\n",
              "      <td>41</td>\n",
              "      <td>1</td>\n",
              "      <td>83807.86</td>\n",
              "      <td>1</td>\n",
              "      <td>0</td>\n",
              "      <td>1</td>\n",
              "      <td>112542.58</td>\n",
              "      <td>0</td>\n",
              "    </tr>\n",
              "    <tr>\n",
              "      <th>2</th>\n",
              "      <td>3</td>\n",
              "      <td>15619304</td>\n",
              "      <td>Onio</td>\n",
              "      <td>502</td>\n",
              "      <td>France</td>\n",
              "      <td>Female</td>\n",
              "      <td>42</td>\n",
              "      <td>8</td>\n",
              "      <td>159660.80</td>\n",
              "      <td>3</td>\n",
              "      <td>1</td>\n",
              "      <td>0</td>\n",
              "      <td>113931.57</td>\n",
              "      <td>1</td>\n",
              "    </tr>\n",
              "    <tr>\n",
              "      <th>3</th>\n",
              "      <td>4</td>\n",
              "      <td>15701354</td>\n",
              "      <td>Boni</td>\n",
              "      <td>699</td>\n",
              "      <td>France</td>\n",
              "      <td>Female</td>\n",
              "      <td>39</td>\n",
              "      <td>1</td>\n",
              "      <td>0.00</td>\n",
              "      <td>2</td>\n",
              "      <td>0</td>\n",
              "      <td>0</td>\n",
              "      <td>93826.63</td>\n",
              "      <td>0</td>\n",
              "    </tr>\n",
              "    <tr>\n",
              "      <th>4</th>\n",
              "      <td>5</td>\n",
              "      <td>15737888</td>\n",
              "      <td>Mitchell</td>\n",
              "      <td>850</td>\n",
              "      <td>Spain</td>\n",
              "      <td>Female</td>\n",
              "      <td>43</td>\n",
              "      <td>2</td>\n",
              "      <td>125510.82</td>\n",
              "      <td>1</td>\n",
              "      <td>1</td>\n",
              "      <td>1</td>\n",
              "      <td>79084.10</td>\n",
              "      <td>0</td>\n",
              "    </tr>\n",
              "  </tbody>\n",
              "</table>\n",
              "</div>"
            ],
            "text/plain": [
              "   RowNumber  CustomerId   Surname  ...  IsActiveMember EstimatedSalary Exited\n",
              "0          1    15634602  Hargrave  ...               1       101348.88      1\n",
              "1          2    15647311      Hill  ...               1       112542.58      0\n",
              "2          3    15619304      Onio  ...               0       113931.57      1\n",
              "3          4    15701354      Boni  ...               0        93826.63      0\n",
              "4          5    15737888  Mitchell  ...               1        79084.10      0\n",
              "\n",
              "[5 rows x 14 columns]"
            ]
          },
          "metadata": {
            "tags": []
          },
          "execution_count": 2
        }
      ]
    },
    {
      "cell_type": "code",
      "metadata": {
        "colab": {
          "base_uri": "https://localhost:8080/",
          "height": 317
        },
        "id": "v38rh_SD5mKY",
        "outputId": "0c00f4d1-b84b-459b-f5be-401fe100579e"
      },
      "source": [
        "#dataset description\r\n",
        "df.describe()"
      ],
      "execution_count": 3,
      "outputs": [
        {
          "output_type": "execute_result",
          "data": {
            "text/html": [
              "<div>\n",
              "<style scoped>\n",
              "    .dataframe tbody tr th:only-of-type {\n",
              "        vertical-align: middle;\n",
              "    }\n",
              "\n",
              "    .dataframe tbody tr th {\n",
              "        vertical-align: top;\n",
              "    }\n",
              "\n",
              "    .dataframe thead th {\n",
              "        text-align: right;\n",
              "    }\n",
              "</style>\n",
              "<table border=\"1\" class=\"dataframe\">\n",
              "  <thead>\n",
              "    <tr style=\"text-align: right;\">\n",
              "      <th></th>\n",
              "      <th>RowNumber</th>\n",
              "      <th>CustomerId</th>\n",
              "      <th>CreditScore</th>\n",
              "      <th>Age</th>\n",
              "      <th>Tenure</th>\n",
              "      <th>Balance</th>\n",
              "      <th>NumOfProducts</th>\n",
              "      <th>HasCrCard</th>\n",
              "      <th>IsActiveMember</th>\n",
              "      <th>EstimatedSalary</th>\n",
              "      <th>Exited</th>\n",
              "    </tr>\n",
              "  </thead>\n",
              "  <tbody>\n",
              "    <tr>\n",
              "      <th>count</th>\n",
              "      <td>10000.00000</td>\n",
              "      <td>1.000000e+04</td>\n",
              "      <td>10000.000000</td>\n",
              "      <td>10000.000000</td>\n",
              "      <td>10000.000000</td>\n",
              "      <td>10000.000000</td>\n",
              "      <td>10000.000000</td>\n",
              "      <td>10000.00000</td>\n",
              "      <td>10000.000000</td>\n",
              "      <td>10000.000000</td>\n",
              "      <td>10000.000000</td>\n",
              "    </tr>\n",
              "    <tr>\n",
              "      <th>mean</th>\n",
              "      <td>5000.50000</td>\n",
              "      <td>1.569094e+07</td>\n",
              "      <td>650.528800</td>\n",
              "      <td>38.921800</td>\n",
              "      <td>5.012800</td>\n",
              "      <td>76485.889288</td>\n",
              "      <td>1.530200</td>\n",
              "      <td>0.70550</td>\n",
              "      <td>0.515100</td>\n",
              "      <td>100090.239881</td>\n",
              "      <td>0.203700</td>\n",
              "    </tr>\n",
              "    <tr>\n",
              "      <th>std</th>\n",
              "      <td>2886.89568</td>\n",
              "      <td>7.193619e+04</td>\n",
              "      <td>96.653299</td>\n",
              "      <td>10.487806</td>\n",
              "      <td>2.892174</td>\n",
              "      <td>62397.405202</td>\n",
              "      <td>0.581654</td>\n",
              "      <td>0.45584</td>\n",
              "      <td>0.499797</td>\n",
              "      <td>57510.492818</td>\n",
              "      <td>0.402769</td>\n",
              "    </tr>\n",
              "    <tr>\n",
              "      <th>min</th>\n",
              "      <td>1.00000</td>\n",
              "      <td>1.556570e+07</td>\n",
              "      <td>350.000000</td>\n",
              "      <td>18.000000</td>\n",
              "      <td>0.000000</td>\n",
              "      <td>0.000000</td>\n",
              "      <td>1.000000</td>\n",
              "      <td>0.00000</td>\n",
              "      <td>0.000000</td>\n",
              "      <td>11.580000</td>\n",
              "      <td>0.000000</td>\n",
              "    </tr>\n",
              "    <tr>\n",
              "      <th>25%</th>\n",
              "      <td>2500.75000</td>\n",
              "      <td>1.562853e+07</td>\n",
              "      <td>584.000000</td>\n",
              "      <td>32.000000</td>\n",
              "      <td>3.000000</td>\n",
              "      <td>0.000000</td>\n",
              "      <td>1.000000</td>\n",
              "      <td>0.00000</td>\n",
              "      <td>0.000000</td>\n",
              "      <td>51002.110000</td>\n",
              "      <td>0.000000</td>\n",
              "    </tr>\n",
              "    <tr>\n",
              "      <th>50%</th>\n",
              "      <td>5000.50000</td>\n",
              "      <td>1.569074e+07</td>\n",
              "      <td>652.000000</td>\n",
              "      <td>37.000000</td>\n",
              "      <td>5.000000</td>\n",
              "      <td>97198.540000</td>\n",
              "      <td>1.000000</td>\n",
              "      <td>1.00000</td>\n",
              "      <td>1.000000</td>\n",
              "      <td>100193.915000</td>\n",
              "      <td>0.000000</td>\n",
              "    </tr>\n",
              "    <tr>\n",
              "      <th>75%</th>\n",
              "      <td>7500.25000</td>\n",
              "      <td>1.575323e+07</td>\n",
              "      <td>718.000000</td>\n",
              "      <td>44.000000</td>\n",
              "      <td>7.000000</td>\n",
              "      <td>127644.240000</td>\n",
              "      <td>2.000000</td>\n",
              "      <td>1.00000</td>\n",
              "      <td>1.000000</td>\n",
              "      <td>149388.247500</td>\n",
              "      <td>0.000000</td>\n",
              "    </tr>\n",
              "    <tr>\n",
              "      <th>max</th>\n",
              "      <td>10000.00000</td>\n",
              "      <td>1.581569e+07</td>\n",
              "      <td>850.000000</td>\n",
              "      <td>92.000000</td>\n",
              "      <td>10.000000</td>\n",
              "      <td>250898.090000</td>\n",
              "      <td>4.000000</td>\n",
              "      <td>1.00000</td>\n",
              "      <td>1.000000</td>\n",
              "      <td>199992.480000</td>\n",
              "      <td>1.000000</td>\n",
              "    </tr>\n",
              "  </tbody>\n",
              "</table>\n",
              "</div>"
            ],
            "text/plain": [
              "         RowNumber    CustomerId  ...  EstimatedSalary        Exited\n",
              "count  10000.00000  1.000000e+04  ...     10000.000000  10000.000000\n",
              "mean    5000.50000  1.569094e+07  ...    100090.239881      0.203700\n",
              "std     2886.89568  7.193619e+04  ...     57510.492818      0.402769\n",
              "min        1.00000  1.556570e+07  ...        11.580000      0.000000\n",
              "25%     2500.75000  1.562853e+07  ...     51002.110000      0.000000\n",
              "50%     5000.50000  1.569074e+07  ...    100193.915000      0.000000\n",
              "75%     7500.25000  1.575323e+07  ...    149388.247500      0.000000\n",
              "max    10000.00000  1.581569e+07  ...    199992.480000      1.000000\n",
              "\n",
              "[8 rows x 11 columns]"
            ]
          },
          "metadata": {
            "tags": []
          },
          "execution_count": 3
        }
      ]
    },
    {
      "cell_type": "code",
      "metadata": {
        "colab": {
          "base_uri": "https://localhost:8080/"
        },
        "id": "46RYS9RJ56Tp",
        "outputId": "d63972da-c2ac-43d6-9f25-7bd7f5b7728c"
      },
      "source": [
        "#shape of the dataset\r\n",
        "df.shape"
      ],
      "execution_count": 4,
      "outputs": [
        {
          "output_type": "execute_result",
          "data": {
            "text/plain": [
              "(10000, 14)"
            ]
          },
          "metadata": {
            "tags": []
          },
          "execution_count": 4
        }
      ]
    },
    {
      "cell_type": "code",
      "metadata": {
        "colab": {
          "base_uri": "https://localhost:8080/"
        },
        "id": "pVNM56886Gt2",
        "outputId": "a8c18812-c894-49e4-bf41-671259d12fab"
      },
      "source": [
        "#info of dataset\r\n",
        "df.info()"
      ],
      "execution_count": 5,
      "outputs": [
        {
          "output_type": "stream",
          "text": [
            "<class 'pandas.core.frame.DataFrame'>\n",
            "RangeIndex: 10000 entries, 0 to 9999\n",
            "Data columns (total 14 columns):\n",
            " #   Column           Non-Null Count  Dtype  \n",
            "---  ------           --------------  -----  \n",
            " 0   RowNumber        10000 non-null  int64  \n",
            " 1   CustomerId       10000 non-null  int64  \n",
            " 2   Surname          10000 non-null  object \n",
            " 3   CreditScore      10000 non-null  int64  \n",
            " 4   Geography        10000 non-null  object \n",
            " 5   Gender           10000 non-null  object \n",
            " 6   Age              10000 non-null  int64  \n",
            " 7   Tenure           10000 non-null  int64  \n",
            " 8   Balance          10000 non-null  float64\n",
            " 9   NumOfProducts    10000 non-null  int64  \n",
            " 10  HasCrCard        10000 non-null  int64  \n",
            " 11  IsActiveMember   10000 non-null  int64  \n",
            " 12  EstimatedSalary  10000 non-null  float64\n",
            " 13  Exited           10000 non-null  int64  \n",
            "dtypes: float64(2), int64(9), object(3)\n",
            "memory usage: 1.1+ MB\n"
          ],
          "name": "stdout"
        }
      ]
    },
    {
      "cell_type": "code",
      "metadata": {
        "colab": {
          "base_uri": "https://localhost:8080/"
        },
        "id": "A8W1KTDiEq-T",
        "outputId": "7b14d0db-a394-4aee-fdb4-5d59d9d0a449"
      },
      "source": [
        "# Get unique count for each variable\r\n",
        "df.nunique()"
      ],
      "execution_count": 6,
      "outputs": [
        {
          "output_type": "execute_result",
          "data": {
            "text/plain": [
              "RowNumber          10000\n",
              "CustomerId         10000\n",
              "Surname             2932\n",
              "CreditScore          460\n",
              "Geography              3\n",
              "Gender                 2\n",
              "Age                   70\n",
              "Tenure                11\n",
              "Balance             6382\n",
              "NumOfProducts          4\n",
              "HasCrCard              2\n",
              "IsActiveMember         2\n",
              "EstimatedSalary     9999\n",
              "Exited                 2\n",
              "dtype: int64"
            ]
          },
          "metadata": {
            "tags": []
          },
          "execution_count": 6
        }
      ]
    },
    {
      "cell_type": "code",
      "metadata": {
        "colab": {
          "base_uri": "https://localhost:8080/"
        },
        "id": "Hu3Olm9R60wj",
        "outputId": "b55d808a-336f-4d8b-aec8-28b174962d00"
      },
      "source": [
        "#checking for null values\r\n",
        "df.isnull().sum()"
      ],
      "execution_count": 7,
      "outputs": [
        {
          "output_type": "execute_result",
          "data": {
            "text/plain": [
              "RowNumber          0\n",
              "CustomerId         0\n",
              "Surname            0\n",
              "CreditScore        0\n",
              "Geography          0\n",
              "Gender             0\n",
              "Age                0\n",
              "Tenure             0\n",
              "Balance            0\n",
              "NumOfProducts      0\n",
              "HasCrCard          0\n",
              "IsActiveMember     0\n",
              "EstimatedSalary    0\n",
              "Exited             0\n",
              "dtype: int64"
            ]
          },
          "metadata": {
            "tags": []
          },
          "execution_count": 7
        }
      ]
    },
    {
      "cell_type": "code",
      "metadata": {
        "colab": {
          "base_uri": "https://localhost:8080/"
        },
        "id": "A8llMgntuE01",
        "outputId": "2762602e-d571-46c5-ecae-ff36cfe652bd"
      },
      "source": [
        "#checking the data type of each column\r\n",
        "df.dtypes"
      ],
      "execution_count": 8,
      "outputs": [
        {
          "output_type": "execute_result",
          "data": {
            "text/plain": [
              "RowNumber            int64\n",
              "CustomerId           int64\n",
              "Surname             object\n",
              "CreditScore          int64\n",
              "Geography           object\n",
              "Gender              object\n",
              "Age                  int64\n",
              "Tenure               int64\n",
              "Balance            float64\n",
              "NumOfProducts        int64\n",
              "HasCrCard            int64\n",
              "IsActiveMember       int64\n",
              "EstimatedSalary    float64\n",
              "Exited               int64\n",
              "dtype: object"
            ]
          },
          "metadata": {
            "tags": []
          },
          "execution_count": 8
        }
      ]
    },
    {
      "cell_type": "code",
      "metadata": {
        "colab": {
          "base_uri": "https://localhost:8080/",
          "height": 439
        },
        "id": "DHQ2JWmDuG7u",
        "outputId": "afd09f7c-184c-465f-c100-7a08ee53a327"
      },
      "source": [
        "#data of customer who has exited from this bank\r\n",
        "df[df['Exited']==1]"
      ],
      "execution_count": 9,
      "outputs": [
        {
          "output_type": "execute_result",
          "data": {
            "text/html": [
              "<div>\n",
              "<style scoped>\n",
              "    .dataframe tbody tr th:only-of-type {\n",
              "        vertical-align: middle;\n",
              "    }\n",
              "\n",
              "    .dataframe tbody tr th {\n",
              "        vertical-align: top;\n",
              "    }\n",
              "\n",
              "    .dataframe thead th {\n",
              "        text-align: right;\n",
              "    }\n",
              "</style>\n",
              "<table border=\"1\" class=\"dataframe\">\n",
              "  <thead>\n",
              "    <tr style=\"text-align: right;\">\n",
              "      <th></th>\n",
              "      <th>RowNumber</th>\n",
              "      <th>CustomerId</th>\n",
              "      <th>Surname</th>\n",
              "      <th>CreditScore</th>\n",
              "      <th>Geography</th>\n",
              "      <th>Gender</th>\n",
              "      <th>Age</th>\n",
              "      <th>Tenure</th>\n",
              "      <th>Balance</th>\n",
              "      <th>NumOfProducts</th>\n",
              "      <th>HasCrCard</th>\n",
              "      <th>IsActiveMember</th>\n",
              "      <th>EstimatedSalary</th>\n",
              "      <th>Exited</th>\n",
              "    </tr>\n",
              "  </thead>\n",
              "  <tbody>\n",
              "    <tr>\n",
              "      <th>0</th>\n",
              "      <td>1</td>\n",
              "      <td>15634602</td>\n",
              "      <td>Hargrave</td>\n",
              "      <td>619</td>\n",
              "      <td>France</td>\n",
              "      <td>Female</td>\n",
              "      <td>42</td>\n",
              "      <td>2</td>\n",
              "      <td>0.00</td>\n",
              "      <td>1</td>\n",
              "      <td>1</td>\n",
              "      <td>1</td>\n",
              "      <td>101348.88</td>\n",
              "      <td>1</td>\n",
              "    </tr>\n",
              "    <tr>\n",
              "      <th>2</th>\n",
              "      <td>3</td>\n",
              "      <td>15619304</td>\n",
              "      <td>Onio</td>\n",
              "      <td>502</td>\n",
              "      <td>France</td>\n",
              "      <td>Female</td>\n",
              "      <td>42</td>\n",
              "      <td>8</td>\n",
              "      <td>159660.80</td>\n",
              "      <td>3</td>\n",
              "      <td>1</td>\n",
              "      <td>0</td>\n",
              "      <td>113931.57</td>\n",
              "      <td>1</td>\n",
              "    </tr>\n",
              "    <tr>\n",
              "      <th>5</th>\n",
              "      <td>6</td>\n",
              "      <td>15574012</td>\n",
              "      <td>Chu</td>\n",
              "      <td>645</td>\n",
              "      <td>Spain</td>\n",
              "      <td>Male</td>\n",
              "      <td>44</td>\n",
              "      <td>8</td>\n",
              "      <td>113755.78</td>\n",
              "      <td>2</td>\n",
              "      <td>1</td>\n",
              "      <td>0</td>\n",
              "      <td>149756.71</td>\n",
              "      <td>1</td>\n",
              "    </tr>\n",
              "    <tr>\n",
              "      <th>7</th>\n",
              "      <td>8</td>\n",
              "      <td>15656148</td>\n",
              "      <td>Obinna</td>\n",
              "      <td>376</td>\n",
              "      <td>Germany</td>\n",
              "      <td>Female</td>\n",
              "      <td>29</td>\n",
              "      <td>4</td>\n",
              "      <td>115046.74</td>\n",
              "      <td>4</td>\n",
              "      <td>1</td>\n",
              "      <td>0</td>\n",
              "      <td>119346.88</td>\n",
              "      <td>1</td>\n",
              "    </tr>\n",
              "    <tr>\n",
              "      <th>16</th>\n",
              "      <td>17</td>\n",
              "      <td>15737452</td>\n",
              "      <td>Romeo</td>\n",
              "      <td>653</td>\n",
              "      <td>Germany</td>\n",
              "      <td>Male</td>\n",
              "      <td>58</td>\n",
              "      <td>1</td>\n",
              "      <td>132602.88</td>\n",
              "      <td>1</td>\n",
              "      <td>1</td>\n",
              "      <td>0</td>\n",
              "      <td>5097.67</td>\n",
              "      <td>1</td>\n",
              "    </tr>\n",
              "    <tr>\n",
              "      <th>...</th>\n",
              "      <td>...</td>\n",
              "      <td>...</td>\n",
              "      <td>...</td>\n",
              "      <td>...</td>\n",
              "      <td>...</td>\n",
              "      <td>...</td>\n",
              "      <td>...</td>\n",
              "      <td>...</td>\n",
              "      <td>...</td>\n",
              "      <td>...</td>\n",
              "      <td>...</td>\n",
              "      <td>...</td>\n",
              "      <td>...</td>\n",
              "      <td>...</td>\n",
              "    </tr>\n",
              "    <tr>\n",
              "      <th>9981</th>\n",
              "      <td>9982</td>\n",
              "      <td>15672754</td>\n",
              "      <td>Burbidge</td>\n",
              "      <td>498</td>\n",
              "      <td>Germany</td>\n",
              "      <td>Male</td>\n",
              "      <td>42</td>\n",
              "      <td>3</td>\n",
              "      <td>152039.70</td>\n",
              "      <td>1</td>\n",
              "      <td>1</td>\n",
              "      <td>1</td>\n",
              "      <td>53445.17</td>\n",
              "      <td>1</td>\n",
              "    </tr>\n",
              "    <tr>\n",
              "      <th>9982</th>\n",
              "      <td>9983</td>\n",
              "      <td>15768163</td>\n",
              "      <td>Griffin</td>\n",
              "      <td>655</td>\n",
              "      <td>Germany</td>\n",
              "      <td>Female</td>\n",
              "      <td>46</td>\n",
              "      <td>7</td>\n",
              "      <td>137145.12</td>\n",
              "      <td>1</td>\n",
              "      <td>1</td>\n",
              "      <td>0</td>\n",
              "      <td>115146.40</td>\n",
              "      <td>1</td>\n",
              "    </tr>\n",
              "    <tr>\n",
              "      <th>9991</th>\n",
              "      <td>9992</td>\n",
              "      <td>15769959</td>\n",
              "      <td>Ajuluchukwu</td>\n",
              "      <td>597</td>\n",
              "      <td>France</td>\n",
              "      <td>Female</td>\n",
              "      <td>53</td>\n",
              "      <td>4</td>\n",
              "      <td>88381.21</td>\n",
              "      <td>1</td>\n",
              "      <td>1</td>\n",
              "      <td>0</td>\n",
              "      <td>69384.71</td>\n",
              "      <td>1</td>\n",
              "    </tr>\n",
              "    <tr>\n",
              "      <th>9997</th>\n",
              "      <td>9998</td>\n",
              "      <td>15584532</td>\n",
              "      <td>Liu</td>\n",
              "      <td>709</td>\n",
              "      <td>France</td>\n",
              "      <td>Female</td>\n",
              "      <td>36</td>\n",
              "      <td>7</td>\n",
              "      <td>0.00</td>\n",
              "      <td>1</td>\n",
              "      <td>0</td>\n",
              "      <td>1</td>\n",
              "      <td>42085.58</td>\n",
              "      <td>1</td>\n",
              "    </tr>\n",
              "    <tr>\n",
              "      <th>9998</th>\n",
              "      <td>9999</td>\n",
              "      <td>15682355</td>\n",
              "      <td>Sabbatini</td>\n",
              "      <td>772</td>\n",
              "      <td>Germany</td>\n",
              "      <td>Male</td>\n",
              "      <td>42</td>\n",
              "      <td>3</td>\n",
              "      <td>75075.31</td>\n",
              "      <td>2</td>\n",
              "      <td>1</td>\n",
              "      <td>0</td>\n",
              "      <td>92888.52</td>\n",
              "      <td>1</td>\n",
              "    </tr>\n",
              "  </tbody>\n",
              "</table>\n",
              "<p>2037 rows × 14 columns</p>\n",
              "</div>"
            ],
            "text/plain": [
              "      RowNumber  CustomerId  ... EstimatedSalary  Exited\n",
              "0             1    15634602  ...       101348.88       1\n",
              "2             3    15619304  ...       113931.57       1\n",
              "5             6    15574012  ...       149756.71       1\n",
              "7             8    15656148  ...       119346.88       1\n",
              "16           17    15737452  ...         5097.67       1\n",
              "...         ...         ...  ...             ...     ...\n",
              "9981       9982    15672754  ...        53445.17       1\n",
              "9982       9983    15768163  ...       115146.40       1\n",
              "9991       9992    15769959  ...        69384.71       1\n",
              "9997       9998    15584532  ...        42085.58       1\n",
              "9998       9999    15682355  ...        92888.52       1\n",
              "\n",
              "[2037 rows x 14 columns]"
            ]
          },
          "metadata": {
            "tags": []
          },
          "execution_count": 9
        }
      ]
    },
    {
      "cell_type": "markdown",
      "metadata": {
        "id": "h3tuDmQR8Kr1"
      },
      "source": [
        "#Exploratory Data Analysis"
      ]
    },
    {
      "cell_type": "code",
      "metadata": {
        "colab": {
          "base_uri": "https://localhost:8080/",
          "height": 486
        },
        "id": "yhEW7uwa8SfZ",
        "outputId": "65480972-f48a-4179-c889-2ae363a7d1f6"
      },
      "source": [
        "labels = 'Exited', 'Retained'\r\n",
        "sizes = [df.Exited[df['Exited']==1].count(), df.Exited[df['Exited']==0].count()]\r\n",
        "explode = (0, 0.1)\r\n",
        "fig1, ax1 = plt.subplots(figsize=(10, 8))\r\n",
        "colors = ['Gold','Silver']\r\n",
        "ax1.pie(sizes,colors=colors, explode=explode, labels=labels, autopct='%1.1f%%',\r\n",
        "        shadow=True, startangle=90)\r\n",
        "ax1.axis('equal')\r\n",
        "plt.title(\"Proportion of customer churned and retained\", size = 18)\r\n",
        "plt.show()"
      ],
      "execution_count": 10,
      "outputs": [
        {
          "output_type": "display_data",
          "data": {
            "image/png": "[encoded data removed]",
            "text/plain": [
              "<Figure size 720x576 with 1 Axes>"
            ]
          },
          "metadata": {
            "tags": []
          }
        }
      ]
    },
    {
      "cell_type": "markdown",
      "metadata": {
        "id": "CkMQYqOl93cl"
      },
      "source": [
        "So we can see about 20% of the customers have churned so bank has to see the reason behind it."
      ]
    },
    {
      "cell_type": "code",
      "metadata": {
        "colab": {
          "base_uri": "https://localhost:8080/",
          "height": 366
        },
        "id": "vchbjRTzuOpA",
        "outputId": "19813d94-e236-4e58-961c-558b9fccdc6d"
      },
      "source": [
        "#histogram for tenure vs no. of customer exited or retained\r\n",
        "tenure_churn_no=df[df.Exited==0].Tenure\r\n",
        "tenure_churn_yes=df[df.Exited==1].Tenure\r\n",
        "\r\n",
        "plt.xlabel(\"tenure\")\r\n",
        "plt.ylabel(\"No of customers\")\r\n",
        "plt.title(\"Customer Churn prediction Visualization\")\r\n",
        "plt.hist([tenure_churn_yes,tenure_churn_no],color=['green','red'],label=['Churn=Yes','Churn=No'])\r\n",
        "plt.legend()"
      ],
      "execution_count": 11,
      "outputs": [
        {
          "output_type": "stream",
          "text": [
            "/usr/local/lib/python3.6/dist-packages/numpy/core/_asarray.py:83: VisibleDeprecationWarning: Creating an ndarray from ragged nested sequences (which is a list-or-tuple of lists-or-tuples-or ndarrays with different lengths or shapes) is deprecated. If you meant to do this, you must specify 'dtype=object' when creating the ndarray\n",
            "  return array(a, dtype, copy=False, order=order)\n"
          ],
          "name": "stderr"
        },
        {
          "output_type": "execute_result",
          "data": {
            "text/plain": [
              "<matplotlib.legend.Legend at 0x7f48d00fafd0>"
            ]
          },
          "metadata": {
            "tags": []
          },
          "execution_count": 11
        },
        {
          "output_type": "display_data",
          "data": {
            "image/png": "[encoded data removed]",
            "text/plain": [
              "<Figure size 432x288 with 1 Axes>"
            ]
          },
          "metadata": {
            "tags": [],
            "needs_background": "light"
          }
        }
      ]
    },
    {
      "cell_type": "markdown",
      "metadata": {
        "id": "jtsPBoJF-EDY"
      },
      "source": [
        "Here, we can see as tenure is increasing, number of customer is leaving. So tenure in inverse to churn."
      ]
    },
    {
      "cell_type": "code",
      "metadata": {
        "colab": {
          "base_uri": "https://localhost:8080/",
          "height": 651
        },
        "id": "WaKsvzLTuW4S",
        "outputId": "2f8b157d-9f51-41ca-949a-f02c3abfcf96"
      },
      "source": [
        " # We first review the 'Status' relation with categorical variables\r\n",
        "fig, axarr = plt.subplots(2, 2, figsize=(18, 12))\r\n",
        "sns.countplot(x='Geography', hue = 'Exited',data = df, ax=axarr[0][0])\r\n",
        "sns.countplot(x='Gender', hue = 'Exited',data = df, ax=axarr[0][1])\r\n",
        "sns.countplot(x='HasCrCard', hue = 'Exited',data = df, ax=axarr[1][0])\r\n",
        "sns.countplot(x='IsActiveMember', hue = 'Exited',data = df, ax=axarr[1][1])"
      ],
      "execution_count": 12,
      "outputs": [
        {
          "output_type": "execute_result",
          "data": {
            "text/plain": [
              "<matplotlib.axes._subplots.AxesSubplot at 0x7f48d0014198>"
            ]
          },
          "metadata": {
            "tags": []
          },
          "execution_count": 12
        },
        {
          "output_type": "display_data",
          "data": {
            "image/png": "[encoded data removed]",
            "text/plain": [
              "<Figure size 1296x864 with 4 Axes>"
            ]
          },
          "metadata": {
            "tags": [],
            "needs_background": "light"
          }
        }
      ]
    },
    {
      "cell_type": "markdown",
      "metadata": {
        "id": "Forsu2SM-nxm"
      },
      "source": [
        "We note the following:\r\n",
        "\r\n",
        "1) Majority of the data is from persons from France. However, the proportion of churned customers is with inversely related to the population of customers alluding to the bank possibly having a problem (maybe not enough customer service resources allocated) in the areas where it has fewer clients.\r\n",
        "\r\n",
        "2) The proportion of female customers churning is also greater than that of male customers\r\n",
        "\r\n",
        "3) Interestingly, majority of the customers that churned are those with credit cards. Given that majority of the customers have credit cards could prove this to be just a coincidence.\r\n",
        "\r\n",
        "4) Unsurprisingly the inactive members have a greater churn. Worryingly is that the overall proportion of inactive mebers is quite high suggesting that the bank may need a program implemented to turn this group to active customers as this will definately have a positive impact on the customer churn."
      ]
    },
    {
      "cell_type": "code",
      "metadata": {
        "colab": {
          "base_uri": "https://localhost:8080/",
          "height": 655
        },
        "id": "-j3GhSgNucqq",
        "outputId": "f695ffbb-ae18-40d7-a4b7-dc15fb1b3cb9"
      },
      "source": [
        "# Relations based on the continuous data attributes\r\n",
        "fig, axarr = plt.subplots(3, 2, figsize=(18, 12))\r\n",
        "sns.boxplot(y='CreditScore',x = 'Exited', hue = 'Exited',data = df, ax=axarr[0][0])\r\n",
        "sns.boxplot(y='Age',x = 'Exited', hue = 'Exited',data = df , ax=axarr[0][1])\r\n",
        "sns.boxplot(y='Tenure',x = 'Exited', hue = 'Exited',data = df, ax=axarr[1][0])\r\n",
        "sns.boxplot(y='Balance',x = 'Exited', hue = 'Exited',data = df, ax=axarr[1][1])\r\n",
        "sns.boxplot(y='NumOfProducts',x = 'Exited', hue = 'Exited',data = df, ax=axarr[2][0])\r\n",
        "sns.boxplot(y='EstimatedSalary',x = 'Exited', hue = 'Exited',data = df, ax=axarr[2][1])"
      ],
      "execution_count": 13,
      "outputs": [
        {
          "output_type": "execute_result",
          "data": {
            "text/plain": [
              "<matplotlib.axes._subplots.AxesSubplot at 0x7f48cfe00908>"
            ]
          },
          "metadata": {
            "tags": []
          },
          "execution_count": 13
        },
        {
          "output_type": "display_data",
          "data": {
            "image/png": "[encoded data removed]",
            "text/plain": [
              "<Figure size 1296x864 with 6 Axes>"
            ]
          },
          "metadata": {
            "tags": [],
            "needs_background": "light"
          }
        }
      ]
    },
    {
      "cell_type": "markdown",
      "metadata": {
        "id": "Af0J2eFx-2c3"
      },
      "source": [
        "We note the following:\r\n",
        "\r\n",
        "1) There is no significant difference in the credit score distribution between retained and churned customers.\r\n",
        "\r\n",
        "2) The older customers are churning at more than the younger ones alluding to a difference in service preference in the age categories. The bank may need to review their target market or review the strategy for retention between the different age groups\r\n",
        "\r\n",
        "3) With regard to the tenure, the clients on either extreme end (spent little time with the bank or a lot of time with the bank) are more likely to churn compared to those that are of average tenure.\r\n",
        "\r\n",
        "4) Worryingly, the bank is losing customers with significant bank balances which is likely to hit their available capital for lending.\r\n",
        "\r\n",
        "5) Neither the product nor the salary has a significant effect on the likelihood to churn."
      ]
    },
    {
      "cell_type": "markdown",
      "metadata": {
        "id": "gkHai8NdADDt"
      },
      "source": [
        "#Data preprocessing"
      ]
    },
    {
      "cell_type": "code",
      "metadata": {
        "id": "oco3D_VkvX_z"
      },
      "source": [
        "#Checking whether dataset has object data type columns\r\n",
        "def print_unique_col_values(df):\r\n",
        "    for column in df:\r\n",
        "        if df[column].dtypes=='object':\r\n",
        "            print(f'{column}:{df[column].unique()}')"
      ],
      "execution_count": 14,
      "outputs": []
    },
    {
      "cell_type": "code",
      "metadata": {
        "colab": {
          "base_uri": "https://localhost:8080/"
        },
        "id": "RvqWSgT0wLbc",
        "outputId": "53788ae7-978b-4ba2-afef-bb505d04010f"
      },
      "source": [
        "print_unique_col_values(df)"
      ],
      "execution_count": 15,
      "outputs": [
        {
          "output_type": "stream",
          "text": [
            "Surname:['Hargrave' 'Hill' 'Onio' ... 'Kashiwagi' 'Aldridge' 'Burbidge']\n",
            "Geography:['France' 'Spain' 'Germany']\n",
            "Gender:['Female' 'Male']\n"
          ],
          "name": "stdout"
        }
      ]
    },
    {
      "cell_type": "code",
      "metadata": {
        "id": "GbrKJlnUATBV"
      },
      "source": [
        "#drop column: RowNumber, CustomerId, Surname as it is not needed\r\n",
        "df.drop(['RowNumber','CustomerId','Surname'],axis='columns',inplace=True)"
      ],
      "execution_count": 16,
      "outputs": []
    },
    {
      "cell_type": "code",
      "metadata": {
        "colab": {
          "base_uri": "https://localhost:8080/"
        },
        "id": "ptXIQlcUwNab",
        "outputId": "c522a878-c487-4561-d5ee-9f32334d4080"
      },
      "source": [
        "for col in df:\r\n",
        "    print(f'{col}: {df[col].unique()}')"
      ],
      "execution_count": 17,
      "outputs": [
        {
          "output_type": "stream",
          "text": [
            "CreditScore: [619 608 502 699 850 645 822 376 501 684 528 497 476 549 635 616 653 587\n",
            " 726 732 636 510 669 846 577 756 571 574 411 591 533 553 520 722 475 490\n",
            " 804 582 472 465 556 834 660 776 829 637 550 698 585 788 655 601 656 725\n",
            " 511 614 742 687 555 603 751 581 735 661 675 738 813 657 604 519 664 678\n",
            " 757 416 665 777 543 506 493 652 750 729 646 647 808 524 769 730 515 773\n",
            " 814 710 413 623 670 622 785 605 479 685 538 562 721 628 668 828 674 625\n",
            " 432 770 758 795 686 789 589 461 584 579 663 682 793 691 485 650 754 535\n",
            " 716 539 706 586 631 717 800 683 704 615 667 484 480 578 512 606 597 778\n",
            " 514 525 715 580 807 521 759 516 711 618 643 671 689 620 676 572 695 592\n",
            " 567 694 547 594 673 610 767 763 712 703 662 659 523 772 545 634 739 771\n",
            " 681 544 696 766 727 693 557 531 498 651 791 733 811 707 714 782 775 799\n",
            " 602 744 588 747 583 627 731 629 438 642 806 474 559 429 680 749 734 644\n",
            " 626 649 805 718 840 630 654 762 568 613 522 737 648 443 640 540 460 593\n",
            " 801 611 802 745 483 690 492 709 705 560 752 701 537 487 596 702 486 724\n",
            " 548 464 790 534 748 494 590 468 509 818 816 536 753 774 621 569 658 798\n",
            " 641 542 692 639 765 570 638 599 632 779 527 564 833 504 842 508 417 598\n",
            " 741 607 761 848 546 439 755 760 526 713 700 666 566 495 688 612 477 427\n",
            " 839 819 720 459 503 624 529 563 482 796 445 746 786 554 672 787 499 844\n",
            " 450 815 838 803 736 633 600 679 517 792 743 488 421 841 708 507 505 456\n",
            " 435 561 518 565 728 784 552 609 764 697 723 551 444 719 496 541 830 812\n",
            " 677 420 595 617 809 500 826 434 513 478 797 363 399 463 780 452 575 837\n",
            " 794 824 428 823 781 849 489 431 457 768 831 359 820 573 576 558 817 449\n",
            " 440 415 821 530 350 446 425 740 481 783 358 845 451 458 469 423 404 836\n",
            " 473 835 466 491 351 827 843 365 532 414 453 471 401 810 832 470 447 422\n",
            " 825 430 436 426 408 847 418 437 410 454 407 455 462 386 405 383 395 467\n",
            " 433 442 424 448 441 367 412 382 373 419]\n",
            "Geography: ['France' 'Spain' 'Germany']\n",
            "Gender: ['Female' 'Male']\n",
            "Age: [42 41 39 43 44 50 29 27 31 24 34 25 35 45 58 32 38 46 36 33 40 51 61 49\n",
            " 37 19 66 56 26 21 55 75 22 30 28 65 48 52 57 73 47 54 72 20 67 79 62 53\n",
            " 80 59 68 23 60 70 63 64 18 82 69 74 71 76 77 88 85 84 78 81 92 83]\n",
            "Tenure: [ 2  1  8  7  4  6  3 10  5  9  0]\n",
            "Balance: [     0.    83807.86 159660.8  ...  57369.61  75075.31 130142.79]\n",
            "NumOfProducts: [1 3 2 4]\n",
            "HasCrCard: [1 0]\n",
            "IsActiveMember: [1 0]\n",
            "EstimatedSalary: [101348.88 112542.58 113931.57 ...  42085.58  92888.52  38190.78]\n",
            "Exited: [1 0]\n"
          ],
          "name": "stdout"
        }
      ]
    },
    {
      "cell_type": "code",
      "metadata": {
        "colab": {
          "base_uri": "https://localhost:8080/"
        },
        "id": "ign2VhxJwQPn",
        "outputId": "f3692d1f-efeb-4611-c553-718e16ce41c7"
      },
      "source": [
        "#One-hot encoding for geography and gender \r\n",
        "df1=pd.get_dummies(data=df,columns=['Geography','Gender'])\r\n",
        "df1.columns"
      ],
      "execution_count": 18,
      "outputs": [
        {
          "output_type": "execute_result",
          "data": {
            "text/plain": [
              "Index(['CreditScore', 'Age', 'Tenure', 'Balance', 'NumOfProducts', 'HasCrCard',\n",
              "       'IsActiveMember', 'EstimatedSalary', 'Exited', 'Geography_France',\n",
              "       'Geography_Germany', 'Geography_Spain', 'Gender_Female', 'Gender_Male'],\n",
              "      dtype='object')"
            ]
          },
          "metadata": {
            "tags": []
          },
          "execution_count": 18
        }
      ]
    },
    {
      "cell_type": "code",
      "metadata": {
        "colab": {
          "base_uri": "https://localhost:8080/",
          "height": 224
        },
        "id": "G5St3LG1wgB1",
        "outputId": "9963b12c-3816-4324-e388-503cf62ac38b"
      },
      "source": [
        "df1.sample(5)"
      ],
      "execution_count": 19,
      "outputs": [
        {
          "output_type": "execute_result",
          "data": {
            "text/html": [
              "<div>\n",
              "<style scoped>\n",
              "    .dataframe tbody tr th:only-of-type {\n",
              "        vertical-align: middle;\n",
              "    }\n",
              "\n",
              "    .dataframe tbody tr th {\n",
              "        vertical-align: top;\n",
              "    }\n",
              "\n",
              "    .dataframe thead th {\n",
              "        text-align: right;\n",
              "    }\n",
              "</style>\n",
              "<table border=\"1\" class=\"dataframe\">\n",
              "  <thead>\n",
              "    <tr style=\"text-align: right;\">\n",
              "      <th></th>\n",
              "      <th>CreditScore</th>\n",
              "      <th>Age</th>\n",
              "      <th>Tenure</th>\n",
              "      <th>Balance</th>\n",
              "      <th>NumOfProducts</th>\n",
              "      <th>HasCrCard</th>\n",
              "      <th>IsActiveMember</th>\n",
              "      <th>EstimatedSalary</th>\n",
              "      <th>Exited</th>\n",
              "      <th>Geography_France</th>\n",
              "      <th>Geography_Germany</th>\n",
              "      <th>Geography_Spain</th>\n",
              "      <th>Gender_Female</th>\n",
              "      <th>Gender_Male</th>\n",
              "    </tr>\n",
              "  </thead>\n",
              "  <tbody>\n",
              "    <tr>\n",
              "      <th>2377</th>\n",
              "      <td>549</td>\n",
              "      <td>50</td>\n",
              "      <td>9</td>\n",
              "      <td>94748.76</td>\n",
              "      <td>2</td>\n",
              "      <td>0</td>\n",
              "      <td>1</td>\n",
              "      <td>13608.18</td>\n",
              "      <td>0</td>\n",
              "      <td>1</td>\n",
              "      <td>0</td>\n",
              "      <td>0</td>\n",
              "      <td>0</td>\n",
              "      <td>1</td>\n",
              "    </tr>\n",
              "    <tr>\n",
              "      <th>4763</th>\n",
              "      <td>752</td>\n",
              "      <td>38</td>\n",
              "      <td>0</td>\n",
              "      <td>145974.79</td>\n",
              "      <td>2</td>\n",
              "      <td>1</td>\n",
              "      <td>1</td>\n",
              "      <td>137694.23</td>\n",
              "      <td>0</td>\n",
              "      <td>1</td>\n",
              "      <td>0</td>\n",
              "      <td>0</td>\n",
              "      <td>0</td>\n",
              "      <td>1</td>\n",
              "    </tr>\n",
              "    <tr>\n",
              "      <th>816</th>\n",
              "      <td>696</td>\n",
              "      <td>29</td>\n",
              "      <td>8</td>\n",
              "      <td>0.00</td>\n",
              "      <td>2</td>\n",
              "      <td>1</td>\n",
              "      <td>0</td>\n",
              "      <td>191166.09</td>\n",
              "      <td>0</td>\n",
              "      <td>1</td>\n",
              "      <td>0</td>\n",
              "      <td>0</td>\n",
              "      <td>0</td>\n",
              "      <td>1</td>\n",
              "    </tr>\n",
              "    <tr>\n",
              "      <th>599</th>\n",
              "      <td>484</td>\n",
              "      <td>34</td>\n",
              "      <td>4</td>\n",
              "      <td>148249.54</td>\n",
              "      <td>1</td>\n",
              "      <td>0</td>\n",
              "      <td>1</td>\n",
              "      <td>33738.27</td>\n",
              "      <td>0</td>\n",
              "      <td>0</td>\n",
              "      <td>1</td>\n",
              "      <td>0</td>\n",
              "      <td>1</td>\n",
              "      <td>0</td>\n",
              "    </tr>\n",
              "    <tr>\n",
              "      <th>9400</th>\n",
              "      <td>639</td>\n",
              "      <td>31</td>\n",
              "      <td>3</td>\n",
              "      <td>98360.03</td>\n",
              "      <td>1</td>\n",
              "      <td>0</td>\n",
              "      <td>0</td>\n",
              "      <td>20973.80</td>\n",
              "      <td>0</td>\n",
              "      <td>1</td>\n",
              "      <td>0</td>\n",
              "      <td>0</td>\n",
              "      <td>1</td>\n",
              "      <td>0</td>\n",
              "    </tr>\n",
              "  </tbody>\n",
              "</table>\n",
              "</div>"
            ],
            "text/plain": [
              "      CreditScore  Age  Tenure  ...  Geography_Spain  Gender_Female  Gender_Male\n",
              "2377          549   50       9  ...                0              0            1\n",
              "4763          752   38       0  ...                0              0            1\n",
              "816           696   29       8  ...                0              0            1\n",
              "599           484   34       4  ...                0              1            0\n",
              "9400          639   31       3  ...                0              1            0\n",
              "\n",
              "[5 rows x 14 columns]"
            ]
          },
          "metadata": {
            "tags": []
          },
          "execution_count": 19
        }
      ]
    },
    {
      "cell_type": "code",
      "metadata": {
        "colab": {
          "base_uri": "https://localhost:8080/"
        },
        "id": "v230TuU7wk1b",
        "outputId": "6004480a-8189-4383-e0bf-741548c7d021"
      },
      "source": [
        "df1.dtypes"
      ],
      "execution_count": 20,
      "outputs": [
        {
          "output_type": "execute_result",
          "data": {
            "text/plain": [
              "CreditScore            int64\n",
              "Age                    int64\n",
              "Tenure                 int64\n",
              "Balance              float64\n",
              "NumOfProducts          int64\n",
              "HasCrCard              int64\n",
              "IsActiveMember         int64\n",
              "EstimatedSalary      float64\n",
              "Exited                 int64\n",
              "Geography_France       uint8\n",
              "Geography_Germany      uint8\n",
              "Geography_Spain        uint8\n",
              "Gender_Female          uint8\n",
              "Gender_Male            uint8\n",
              "dtype: object"
            ]
          },
          "metadata": {
            "tags": []
          },
          "execution_count": 20
        }
      ]
    },
    {
      "cell_type": "code",
      "metadata": {
        "colab": {
          "base_uri": "https://localhost:8080/"
        },
        "id": "ol1wGE_sA2Dd",
        "outputId": "75dfb385-355a-4a4c-f5a1-0b37fc30fdf7"
      },
      "source": [
        "df1.shape"
      ],
      "execution_count": 21,
      "outputs": [
        {
          "output_type": "execute_result",
          "data": {
            "text/plain": [
              "(10000, 14)"
            ]
          },
          "metadata": {
            "tags": []
          },
          "execution_count": 21
        }
      ]
    },
    {
      "cell_type": "markdown",
      "metadata": {
        "id": "0BCkjwA5wu3O"
      },
      "source": [
        "#Scaling"
      ]
    },
    {
      "cell_type": "code",
      "metadata": {
        "id": "G9qYLN_iws6X"
      },
      "source": [
        "cols_to_scale=['Tenure','Age','CreditScore','Balance','NumOfProducts','EstimatedSalary']\r\n",
        "\r\n",
        "scaler = MinMaxScaler()\r\n",
        "df1[cols_to_scale]=scaler.fit_transform(df1[cols_to_scale])"
      ],
      "execution_count": 22,
      "outputs": []
    },
    {
      "cell_type": "code",
      "metadata": {
        "colab": {
          "base_uri": "https://localhost:8080/"
        },
        "id": "Uw6H7ZBrwxee",
        "outputId": "008c63f5-5b73-4acc-d1ad-b48ec83da90f"
      },
      "source": [
        "for col in df1:\r\n",
        "    print(f'{col}: {df1[col].unique()}')"
      ],
      "execution_count": 23,
      "outputs": [
        {
          "output_type": "stream",
          "text": [
            "CreditScore: [0.538 0.516 0.304 0.698 1.    0.59  0.944 0.052 0.302 0.668 0.356 0.294\n",
            " 0.252 0.398 0.57  0.532 0.606 0.474 0.752 0.764 0.572 0.32  0.638 0.992\n",
            " 0.454 0.812 0.442 0.448 0.122 0.482 0.366 0.406 0.34  0.744 0.25  0.28\n",
            " 0.908 0.464 0.244 0.23  0.412 0.968 0.62  0.852 0.958 0.574 0.4   0.696\n",
            " 0.47  0.876 0.61  0.502 0.612 0.75  0.322 0.528 0.784 0.674 0.41  0.506\n",
            " 0.802 0.462 0.77  0.622 0.65  0.776 0.926 0.614 0.508 0.338 0.628 0.656\n",
            " 0.814 0.132 0.63  0.854 0.386 0.312 0.286 0.604 0.8   0.758 0.592 0.594\n",
            " 0.916 0.348 0.838 0.76  0.33  0.846 0.928 0.72  0.126 0.546 0.64  0.544\n",
            " 0.87  0.51  0.258 0.67  0.376 0.424 0.742 0.556 0.636 0.956 0.648 0.55\n",
            " 0.164 0.84  0.816 0.89  0.672 0.878 0.478 0.222 0.468 0.458 0.626 0.664\n",
            " 0.886 0.682 0.27  0.6   0.808 0.37  0.732 0.378 0.712 0.472 0.562 0.734\n",
            " 0.9   0.666 0.708 0.53  0.634 0.268 0.26  0.456 0.324 0.512 0.494 0.856\n",
            " 0.328 0.35  0.73  0.46  0.914 0.342 0.818 0.332 0.722 0.536 0.586 0.642\n",
            " 0.678 0.54  0.652 0.444 0.69  0.484 0.434 0.688 0.394 0.488 0.646 0.52\n",
            " 0.834 0.826 0.724 0.706 0.624 0.618 0.346 0.844 0.39  0.568 0.778 0.842\n",
            " 0.662 0.388 0.692 0.832 0.754 0.686 0.414 0.362 0.296 0.602 0.882 0.766\n",
            " 0.922 0.714 0.728 0.864 0.85  0.898 0.504 0.788 0.476 0.794 0.466 0.554\n",
            " 0.762 0.558 0.176 0.584 0.912 0.248 0.418 0.158 0.66  0.798 0.768 0.588\n",
            " 0.552 0.598 0.91  0.736 0.98  0.56  0.608 0.824 0.436 0.526 0.344 0.774\n",
            " 0.596 0.186 0.58  0.38  0.22  0.486 0.902 0.522 0.904 0.79  0.266 0.68\n",
            " 0.284 0.718 0.71  0.42  0.804 0.702 0.374 0.274 0.492 0.704 0.272 0.748\n",
            " 0.396 0.228 0.88  0.368 0.796 0.288 0.48  0.236 0.318 0.936 0.932 0.372\n",
            " 0.806 0.848 0.542 0.438 0.616 0.896 0.582 0.384 0.684 0.578 0.83  0.44\n",
            " 0.576 0.498 0.564 0.858 0.354 0.428 0.966 0.308 0.984 0.316 0.134 0.496\n",
            " 0.782 0.514 0.822 0.996 0.392 0.178 0.81  0.82  0.352 0.726 0.7   0.632\n",
            " 0.432 0.29  0.676 0.524 0.254 0.154 0.978 0.938 0.74  0.218 0.306 0.548\n",
            " 0.358 0.426 0.264 0.892 0.19  0.792 0.872 0.408 0.644 0.874 0.298 0.988\n",
            " 0.2   0.93  0.976 0.906 0.772 0.566 0.5   0.658 0.334 0.884 0.786 0.276\n",
            " 0.142 0.982 0.716 0.314 0.31  0.212 0.17  0.422 0.336 0.43  0.756 0.868\n",
            " 0.404 0.518 0.828 0.694 0.746 0.402 0.188 0.738 0.292 0.382 0.96  0.924\n",
            " 0.654 0.14  0.49  0.534 0.918 0.3   0.952 0.168 0.326 0.256 0.894 0.026\n",
            " 0.098 0.226 0.86  0.204 0.45  0.974 0.888 0.948 0.156 0.946 0.862 0.998\n",
            " 0.278 0.162 0.214 0.836 0.962 0.018 0.94  0.446 0.452 0.416 0.934 0.198\n",
            " 0.18  0.13  0.942 0.36  0.    0.192 0.15  0.78  0.262 0.866 0.016 0.99\n",
            " 0.202 0.216 0.238 0.146 0.108 0.972 0.246 0.97  0.232 0.282 0.002 0.954\n",
            " 0.986 0.03  0.364 0.128 0.206 0.242 0.102 0.92  0.964 0.24  0.194 0.144\n",
            " 0.95  0.16  0.172 0.152 0.116 0.994 0.136 0.174 0.12  0.208 0.114 0.21\n",
            " 0.224 0.072 0.11  0.066 0.09  0.234 0.166 0.184 0.148 0.196 0.182 0.034\n",
            " 0.124 0.064 0.046 0.138]\n",
            "Age: [0.32432432 0.31081081 0.28378378 0.33783784 0.35135135 0.43243243\n",
            " 0.14864865 0.12162162 0.17567568 0.08108108 0.21621622 0.09459459\n",
            " 0.22972973 0.36486486 0.54054054 0.18918919 0.27027027 0.37837838\n",
            " 0.24324324 0.2027027  0.2972973  0.44594595 0.58108108 0.41891892\n",
            " 0.25675676 0.01351351 0.64864865 0.51351351 0.10810811 0.04054054\n",
            " 0.5        0.77027027 0.05405405 0.16216216 0.13513514 0.63513514\n",
            " 0.40540541 0.45945946 0.52702703 0.74324324 0.39189189 0.48648649\n",
            " 0.72972973 0.02702703 0.66216216 0.82432432 0.59459459 0.47297297\n",
            " 0.83783784 0.55405405 0.67567568 0.06756757 0.56756757 0.7027027\n",
            " 0.60810811 0.62162162 0.         0.86486486 0.68918919 0.75675676\n",
            " 0.71621622 0.78378378 0.7972973  0.94594595 0.90540541 0.89189189\n",
            " 0.81081081 0.85135135 1.         0.87837838]\n",
            "Tenure: [0.2 0.1 0.8 0.7 0.4 0.6 0.3 1.  0.5 0.9 0. ]\n",
            "Balance: [0.         0.33403148 0.63635718 ... 0.22865702 0.29922631 0.51870777]\n",
            "NumOfProducts: [0.         0.66666667 0.33333333 1.        ]\n",
            "HasCrCard: [1 0]\n",
            "IsActiveMember: [1 0]\n",
            "EstimatedSalary: [0.50673489 0.56270874 0.56965435 ... 0.21039009 0.46442905 0.19091423]\n",
            "Exited: [1 0]\n",
            "Geography_France: [1 0]\n",
            "Geography_Germany: [0 1]\n",
            "Geography_Spain: [0 1]\n",
            "Gender_Female: [1 0]\n",
            "Gender_Male: [0 1]\n"
          ],
          "name": "stdout"
        }
      ]
    },
    {
      "cell_type": "code",
      "metadata": {
        "colab": {
          "base_uri": "https://localhost:8080/"
        },
        "id": "-M8oLWOQwzmt",
        "outputId": "eff805b5-8061-4638-87fa-c7153190742c"
      },
      "source": [
        "df1.shape"
      ],
      "execution_count": 24,
      "outputs": [
        {
          "output_type": "execute_result",
          "data": {
            "text/plain": [
              "(10000, 14)"
            ]
          },
          "metadata": {
            "tags": []
          },
          "execution_count": 24
        }
      ]
    },
    {
      "cell_type": "code",
      "metadata": {
        "id": "w5K9-yCaw2fg"
      },
      "source": [
        "# Separated response column in y and features in x\r\n",
        "x=df1.drop('Exited',axis='columns')\r\n",
        "y=df1['Exited']"
      ],
      "execution_count": 25,
      "outputs": []
    },
    {
      "cell_type": "markdown",
      "metadata": {
        "id": "p6bi17VpSoep"
      },
      "source": [
        "#Build the model using neural  networks"
      ]
    },
    {
      "cell_type": "code",
      "metadata": {
        "colab": {
          "base_uri": "https://localhost:8080/"
        },
        "id": "UgtWSWNBOTF7",
        "outputId": "0c01edff-92cd-44fb-ae9a-662ffacfd52e"
      },
      "source": [
        "from imblearn.combine import SMOTEENN\r\n",
        "sm=SMOTEENN()\r\n",
        "x_resample,y_resample=sm.fit_sample(x,y)"
      ],
      "execution_count": 26,
      "outputs": [
        {
          "output_type": "stream",
          "text": [
            "/usr/local/lib/python3.6/dist-packages/sklearn/externals/six.py:31: FutureWarning: The module is deprecated in version 0.21 and will be removed in version 0.23 since we've dropped support for Python 2.7. Please rely on the official version of six (https://pypi.org/project/six/).\n",
            "  \"(https://pypi.org/project/six/).\", FutureWarning)\n",
            "/usr/local/lib/python3.6/dist-packages/sklearn/utils/deprecation.py:144: FutureWarning: The sklearn.neighbors.base module is  deprecated in version 0.22 and will be removed in version 0.24. The corresponding classes / functions should instead be imported from sklearn.neighbors. Anything that cannot be imported from sklearn.neighbors is now part of the private API.\n",
            "  warnings.warn(message, FutureWarning)\n",
            "/usr/local/lib/python3.6/dist-packages/sklearn/utils/deprecation.py:87: FutureWarning: Function safe_indexing is deprecated; safe_indexing is deprecated in version 0.22 and will be removed in version 0.24.\n",
            "  warnings.warn(msg, category=FutureWarning)\n",
            "/usr/local/lib/python3.6/dist-packages/sklearn/utils/deprecation.py:87: FutureWarning: Function safe_indexing is deprecated; safe_indexing is deprecated in version 0.22 and will be removed in version 0.24.\n",
            "  warnings.warn(msg, category=FutureWarning)\n",
            "/usr/local/lib/python3.6/dist-packages/sklearn/utils/deprecation.py:87: FutureWarning: Function safe_indexing is deprecated; safe_indexing is deprecated in version 0.22 and will be removed in version 0.24.\n",
            "  warnings.warn(msg, category=FutureWarning)\n",
            "/usr/local/lib/python3.6/dist-packages/sklearn/utils/deprecation.py:87: FutureWarning: Function safe_indexing is deprecated; safe_indexing is deprecated in version 0.22 and will be removed in version 0.24.\n",
            "  warnings.warn(msg, category=FutureWarning)\n"
          ],
          "name": "stderr"
        }
      ]
    },
    {
      "cell_type": "code",
      "metadata": {
        "id": "6ReQIzHfCkEa"
      },
      "source": [
        "#Splitting the dataset \r\n",
        "x_train, x_test, y_train, y_test = train_test_split(x_resample,y_resample,test_size=0.25,random_state=200)"
      ],
      "execution_count": 27,
      "outputs": []
    },
    {
      "cell_type": "code",
      "metadata": {
        "colab": {
          "base_uri": "https://localhost:8080/"
        },
        "id": "8Ym6LcbKCvRv",
        "outputId": "36afbcea-9891-4edc-f966-80c8eed72465"
      },
      "source": [
        "print(\"Shape of x_train\",x_train.shape)\r\n",
        "print(\"Shape of y_train\",y_train.shape)\r\n",
        "print(\"Shape of x_test\",x_test.shape)\r\n",
        "print(\"Shape of y_test\",y_test.shape)"
      ],
      "execution_count": 28,
      "outputs": [
        {
          "output_type": "stream",
          "text": [
            "Shape of x_train (8843, 13)\n",
            "Shape of y_train (8843,)\n",
            "Shape of x_test (2948, 13)\n",
            "Shape of y_test (2948,)\n"
          ],
          "name": "stdout"
        }
      ]
    },
    {
      "cell_type": "code",
      "metadata": {
        "colab": {
          "base_uri": "https://localhost:8080/"
        },
        "id": "cTGg0990xrAv",
        "outputId": "74553070-35b3-45a0-9fbc-b4208ec9c651"
      },
      "source": [
        "model = keras.Sequential([\r\n",
        "    keras.layers.Dense(13, input_shape=(13,), activation='relu'),\r\n",
        "    keras.layers.Dense(7, activation='relu'),\r\n",
        "    keras.layers.Dense(1, activation='sigmoid')\r\n",
        "])\r\n",
        "\r\n",
        "opt = keras.optimizers.Adam(learning_rate=0.02)\r\n",
        "\r\n",
        "model.compile(optimizer=opt,\r\n",
        "              loss='binary_crossentropy',\r\n",
        "              metrics=['accuracy'])\r\n",
        "\r\n",
        "model.fit(x_resample, y_resample, epochs=100)"
      ],
      "execution_count": 29,
      "outputs": [
        {
          "output_type": "stream",
          "text": [
            "Epoch 1/100\n",
            "369/369 [==============================] - 1s 1ms/step - loss: 0.5278 - accuracy: 0.7236\n",
            "Epoch 2/100\n",
            "369/369 [==============================] - 0s 1ms/step - loss: 0.3282 - accuracy: 0.8607\n",
            "Epoch 3/100\n",
            "369/369 [==============================] - 0s 1ms/step - loss: 0.3168 - accuracy: 0.8611\n",
            "Epoch 4/100\n",
            "369/369 [==============================] - 0s 1ms/step - loss: 0.3098 - accuracy: 0.8635\n",
            "Epoch 5/100\n",
            "369/369 [==============================] - 0s 1ms/step - loss: 0.3051 - accuracy: 0.8642\n",
            "Epoch 6/100\n",
            "369/369 [==============================] - 0s 1ms/step - loss: 0.2919 - accuracy: 0.8701\n",
            "Epoch 7/100\n",
            "369/369 [==============================] - 0s 1ms/step - loss: 0.2897 - accuracy: 0.8731\n",
            "Epoch 8/100\n",
            "369/369 [==============================] - 0s 1ms/step - loss: 0.2902 - accuracy: 0.8719\n",
            "Epoch 9/100\n",
            "369/369 [==============================] - 0s 1ms/step - loss: 0.2848 - accuracy: 0.8720\n",
            "Epoch 10/100\n",
            "369/369 [==============================] - 0s 1ms/step - loss: 0.2747 - accuracy: 0.8783\n",
            "Epoch 11/100\n",
            "369/369 [==============================] - 0s 1ms/step - loss: 0.2777 - accuracy: 0.8771\n",
            "Epoch 12/100\n",
            "369/369 [==============================] - 0s 1ms/step - loss: 0.2795 - accuracy: 0.8770\n",
            "Epoch 13/100\n",
            "369/369 [==============================] - 0s 1ms/step - loss: 0.2763 - accuracy: 0.8742\n",
            "Epoch 14/100\n",
            "369/369 [==============================] - 0s 1ms/step - loss: 0.2734 - accuracy: 0.8802\n",
            "Epoch 15/100\n",
            "369/369 [==============================] - 1s 1ms/step - loss: 0.2741 - accuracy: 0.8779\n",
            "Epoch 16/100\n",
            "369/369 [==============================] - 0s 1ms/step - loss: 0.2729 - accuracy: 0.8789\n",
            "Epoch 17/100\n",
            "369/369 [==============================] - 0s 1ms/step - loss: 0.2720 - accuracy: 0.8808\n",
            "Epoch 18/100\n",
            "369/369 [==============================] - 0s 1ms/step - loss: 0.2651 - accuracy: 0.8808\n",
            "Epoch 19/100\n",
            "369/369 [==============================] - 0s 1ms/step - loss: 0.2679 - accuracy: 0.8798\n",
            "Epoch 20/100\n",
            "369/369 [==============================] - 0s 1ms/step - loss: 0.2815 - accuracy: 0.8768\n",
            "Epoch 21/100\n",
            "369/369 [==============================] - 0s 1ms/step - loss: 0.2658 - accuracy: 0.8842\n",
            "Epoch 22/100\n",
            "369/369 [==============================] - 0s 1ms/step - loss: 0.2684 - accuracy: 0.8812\n",
            "Epoch 23/100\n",
            "369/369 [==============================] - 0s 1ms/step - loss: 0.2576 - accuracy: 0.8840\n",
            "Epoch 24/100\n",
            "369/369 [==============================] - 0s 1ms/step - loss: 0.2666 - accuracy: 0.8835\n",
            "Epoch 25/100\n",
            "369/369 [==============================] - 0s 1ms/step - loss: 0.2679 - accuracy: 0.8807\n",
            "Epoch 26/100\n",
            "369/369 [==============================] - 0s 1ms/step - loss: 0.2646 - accuracy: 0.8865\n",
            "Epoch 27/100\n",
            "369/369 [==============================] - 0s 1ms/step - loss: 0.2579 - accuracy: 0.8850\n",
            "Epoch 28/100\n",
            "369/369 [==============================] - 0s 1ms/step - loss: 0.2659 - accuracy: 0.8799\n",
            "Epoch 29/100\n",
            "369/369 [==============================] - 0s 1ms/step - loss: 0.2641 - accuracy: 0.8833\n",
            "Epoch 30/100\n",
            "369/369 [==============================] - 0s 1ms/step - loss: 0.2495 - accuracy: 0.8902\n",
            "Epoch 31/100\n",
            "369/369 [==============================] - 0s 1ms/step - loss: 0.2696 - accuracy: 0.8846\n",
            "Epoch 32/100\n",
            "369/369 [==============================] - 0s 1ms/step - loss: 0.2732 - accuracy: 0.8816\n",
            "Epoch 33/100\n",
            "369/369 [==============================] - 0s 1ms/step - loss: 0.2605 - accuracy: 0.8861\n",
            "Epoch 34/100\n",
            "369/369 [==============================] - 0s 1ms/step - loss: 0.2626 - accuracy: 0.8853\n",
            "Epoch 35/100\n",
            "369/369 [==============================] - 0s 1ms/step - loss: 0.2562 - accuracy: 0.8847\n",
            "Epoch 36/100\n",
            "369/369 [==============================] - 0s 1ms/step - loss: 0.2609 - accuracy: 0.8818\n",
            "Epoch 37/100\n",
            "369/369 [==============================] - 0s 1ms/step - loss: 0.2645 - accuracy: 0.8834\n",
            "Epoch 38/100\n",
            "369/369 [==============================] - 0s 1ms/step - loss: 0.2649 - accuracy: 0.8860\n",
            "Epoch 39/100\n",
            "369/369 [==============================] - 0s 1ms/step - loss: 0.2628 - accuracy: 0.8851\n",
            "Epoch 40/100\n",
            "369/369 [==============================] - 0s 1ms/step - loss: 0.2590 - accuracy: 0.8846\n",
            "Epoch 41/100\n",
            "369/369 [==============================] - 0s 1ms/step - loss: 0.2555 - accuracy: 0.8881\n",
            "Epoch 42/100\n",
            "369/369 [==============================] - 0s 1ms/step - loss: 0.2571 - accuracy: 0.8915\n",
            "Epoch 43/100\n",
            "369/369 [==============================] - 0s 1ms/step - loss: 0.2600 - accuracy: 0.8886\n",
            "Epoch 44/100\n",
            "369/369 [==============================] - 0s 1ms/step - loss: 0.2524 - accuracy: 0.8891\n",
            "Epoch 45/100\n",
            "369/369 [==============================] - 0s 1ms/step - loss: 0.2624 - accuracy: 0.8849\n",
            "Epoch 46/100\n",
            "369/369 [==============================] - 0s 1ms/step - loss: 0.2553 - accuracy: 0.8849\n",
            "Epoch 47/100\n",
            "369/369 [==============================] - 0s 1ms/step - loss: 0.2505 - accuracy: 0.8924\n",
            "Epoch 48/100\n",
            "369/369 [==============================] - 0s 1ms/step - loss: 0.2533 - accuracy: 0.8868\n",
            "Epoch 49/100\n",
            "369/369 [==============================] - 0s 1ms/step - loss: 0.2550 - accuracy: 0.8852\n",
            "Epoch 50/100\n",
            "369/369 [==============================] - 0s 1ms/step - loss: 0.2586 - accuracy: 0.8830\n",
            "Epoch 51/100\n",
            "369/369 [==============================] - 0s 1ms/step - loss: 0.2516 - accuracy: 0.8882\n",
            "Epoch 52/100\n",
            "369/369 [==============================] - 0s 1ms/step - loss: 0.2597 - accuracy: 0.8856\n",
            "Epoch 53/100\n",
            "369/369 [==============================] - 0s 1ms/step - loss: 0.2600 - accuracy: 0.8884\n",
            "Epoch 54/100\n",
            "369/369 [==============================] - 0s 1ms/step - loss: 0.2576 - accuracy: 0.8876\n",
            "Epoch 55/100\n",
            "369/369 [==============================] - 0s 1ms/step - loss: 0.2597 - accuracy: 0.8869\n",
            "Epoch 56/100\n",
            "369/369 [==============================] - 0s 1ms/step - loss: 0.2534 - accuracy: 0.8911\n",
            "Epoch 57/100\n",
            "369/369 [==============================] - 0s 1ms/step - loss: 0.2443 - accuracy: 0.8922\n",
            "Epoch 58/100\n",
            "369/369 [==============================] - 0s 1ms/step - loss: 0.2512 - accuracy: 0.8926\n",
            "Epoch 59/100\n",
            "369/369 [==============================] - 0s 1ms/step - loss: 0.2445 - accuracy: 0.8909\n",
            "Epoch 60/100\n",
            "369/369 [==============================] - 0s 1ms/step - loss: 0.2540 - accuracy: 0.8894\n",
            "Epoch 61/100\n",
            "369/369 [==============================] - 0s 1ms/step - loss: 0.2489 - accuracy: 0.8912\n",
            "Epoch 62/100\n",
            "369/369 [==============================] - 0s 1ms/step - loss: 0.2505 - accuracy: 0.8917\n",
            "Epoch 63/100\n",
            "369/369 [==============================] - 0s 1ms/step - loss: 0.2489 - accuracy: 0.8912\n",
            "Epoch 64/100\n",
            "369/369 [==============================] - 0s 1ms/step - loss: 0.2551 - accuracy: 0.8909\n",
            "Epoch 65/100\n",
            "369/369 [==============================] - 0s 1ms/step - loss: 0.2473 - accuracy: 0.8927\n",
            "Epoch 66/100\n",
            "369/369 [==============================] - 0s 1ms/step - loss: 0.2495 - accuracy: 0.8906\n",
            "Epoch 67/100\n",
            "369/369 [==============================] - 0s 1ms/step - loss: 0.2486 - accuracy: 0.8886\n",
            "Epoch 68/100\n",
            "369/369 [==============================] - 0s 1ms/step - loss: 0.2478 - accuracy: 0.8913\n",
            "Epoch 69/100\n",
            "369/369 [==============================] - 0s 1ms/step - loss: 0.2451 - accuracy: 0.8915\n",
            "Epoch 70/100\n",
            "369/369 [==============================] - 0s 1ms/step - loss: 0.2585 - accuracy: 0.8854\n",
            "Epoch 71/100\n",
            "369/369 [==============================] - 0s 1ms/step - loss: 0.2506 - accuracy: 0.8888\n",
            "Epoch 72/100\n",
            "369/369 [==============================] - 0s 1ms/step - loss: 0.2507 - accuracy: 0.8859\n",
            "Epoch 73/100\n",
            "369/369 [==============================] - 0s 1ms/step - loss: 0.2505 - accuracy: 0.8859\n",
            "Epoch 74/100\n",
            "369/369 [==============================] - 0s 1ms/step - loss: 0.2515 - accuracy: 0.8913\n",
            "Epoch 75/100\n",
            "369/369 [==============================] - 0s 1ms/step - loss: 0.2478 - accuracy: 0.8893\n",
            "Epoch 76/100\n",
            "369/369 [==============================] - 0s 1ms/step - loss: 0.2451 - accuracy: 0.8864\n",
            "Epoch 77/100\n",
            "369/369 [==============================] - 0s 1ms/step - loss: 0.2608 - accuracy: 0.8830\n",
            "Epoch 78/100\n",
            "369/369 [==============================] - 0s 1ms/step - loss: 0.2426 - accuracy: 0.8949\n",
            "Epoch 79/100\n",
            "369/369 [==============================] - 0s 1ms/step - loss: 0.2447 - accuracy: 0.8945\n",
            "Epoch 80/100\n",
            "369/369 [==============================] - 0s 1ms/step - loss: 0.2539 - accuracy: 0.8925\n",
            "Epoch 81/100\n",
            "369/369 [==============================] - 0s 1ms/step - loss: 0.2433 - accuracy: 0.8981\n",
            "Epoch 82/100\n",
            "369/369 [==============================] - 0s 1ms/step - loss: 0.2440 - accuracy: 0.8956\n",
            "Epoch 83/100\n",
            "369/369 [==============================] - 0s 1ms/step - loss: 0.2552 - accuracy: 0.8875\n",
            "Epoch 84/100\n",
            "369/369 [==============================] - 0s 1ms/step - loss: 0.2538 - accuracy: 0.8919\n",
            "Epoch 85/100\n",
            "369/369 [==============================] - 0s 1ms/step - loss: 0.2611 - accuracy: 0.8855\n",
            "Epoch 86/100\n",
            "369/369 [==============================] - 0s 1ms/step - loss: 0.2399 - accuracy: 0.8962\n",
            "Epoch 87/100\n",
            "369/369 [==============================] - 0s 1ms/step - loss: 0.2569 - accuracy: 0.8918\n",
            "Epoch 88/100\n",
            "369/369 [==============================] - 0s 1ms/step - loss: 0.2451 - accuracy: 0.8936\n",
            "Epoch 89/100\n",
            "369/369 [==============================] - 0s 1ms/step - loss: 0.2422 - accuracy: 0.8918\n",
            "Epoch 90/100\n",
            "369/369 [==============================] - 0s 1ms/step - loss: 0.2447 - accuracy: 0.8931\n",
            "Epoch 91/100\n",
            "369/369 [==============================] - 0s 1ms/step - loss: 0.2504 - accuracy: 0.8935\n",
            "Epoch 92/100\n",
            "369/369 [==============================] - 0s 1ms/step - loss: 0.2470 - accuracy: 0.8953\n",
            "Epoch 93/100\n",
            "369/369 [==============================] - 0s 1ms/step - loss: 0.2417 - accuracy: 0.8933\n",
            "Epoch 94/100\n",
            "369/369 [==============================] - 0s 1ms/step - loss: 0.2398 - accuracy: 0.8987\n",
            "Epoch 95/100\n",
            "369/369 [==============================] - 0s 1ms/step - loss: 0.2408 - accuracy: 0.8945\n",
            "Epoch 96/100\n",
            "369/369 [==============================] - 0s 1ms/step - loss: 0.2410 - accuracy: 0.8934\n",
            "Epoch 97/100\n",
            "369/369 [==============================] - 0s 1ms/step - loss: 0.2508 - accuracy: 0.8883\n",
            "Epoch 98/100\n",
            "369/369 [==============================] - 0s 1ms/step - loss: 0.2500 - accuracy: 0.8915\n",
            "Epoch 99/100\n",
            "369/369 [==============================] - 0s 1ms/step - loss: 0.2398 - accuracy: 0.8983\n",
            "Epoch 100/100\n",
            "369/369 [==============================] - 0s 1ms/step - loss: 0.2443 - accuracy: 0.8935\n"
          ],
          "name": "stdout"
        },
        {
          "output_type": "execute_result",
          "data": {
            "text/plain": [
              "<tensorflow.python.keras.callbacks.History at 0x7f48c73d16d8>"
            ]
          },
          "metadata": {
            "tags": []
          },
          "execution_count": 29
        }
      ]
    },
    {
      "cell_type": "code",
      "metadata": {
        "colab": {
          "base_uri": "https://localhost:8080/"
        },
        "id": "-GQJR2z6xUjb",
        "outputId": "5864ef3c-ccdb-4a1c-fcbc-13e174c015d1"
      },
      "source": [
        "model.evaluate(x_test,y_test)"
      ],
      "execution_count": 30,
      "outputs": [
        {
          "output_type": "stream",
          "text": [
            "93/93 [==============================] - 0s 940us/step - loss: 0.2151 - accuracy: 0.9081\n"
          ],
          "name": "stdout"
        },
        {
          "output_type": "execute_result",
          "data": {
            "text/plain": [
              "[0.21508947014808655, 0.9080732464790344]"
            ]
          },
          "metadata": {
            "tags": []
          },
          "execution_count": 30
        }
      ]
    },
    {
      "cell_type": "code",
      "metadata": {
        "colab": {
          "base_uri": "https://localhost:8080/"
        },
        "id": "u_vJFG6LzJ_s",
        "outputId": "7814565a-8bdf-4706-d395-ae8677d2a035"
      },
      "source": [
        "yp=model.predict(x_test)\r\n",
        "yp[:5]"
      ],
      "execution_count": 31,
      "outputs": [
        {
          "output_type": "execute_result",
          "data": {
            "text/plain": [
              "array([[2.3956794e-01],\n",
              "       [1.3068920e-01],\n",
              "       [8.6980295e-01],\n",
              "       [4.0556082e-01],\n",
              "       [1.0445564e-04]], dtype=float32)"
            ]
          },
          "metadata": {
            "tags": []
          },
          "execution_count": 31
        }
      ]
    },
    {
      "cell_type": "code",
      "metadata": {
        "id": "5xpeoo2wzV6J"
      },
      "source": [
        "y_pred = []\r\n",
        "for element in yp:\r\n",
        "    if element > 0.4:\r\n",
        "        y_pred.append(1)\r\n",
        "    else:\r\n",
        "        y_pred.append(0)\r\n"
      ],
      "execution_count": 32,
      "outputs": []
    },
    {
      "cell_type": "code",
      "metadata": {
        "id": "QGIteuwDNrvn"
      },
      "source": [
        "Y_test=y_test.dtype"
      ],
      "execution_count": 33,
      "outputs": []
    },
    {
      "cell_type": "code",
      "metadata": {
        "colab": {
          "base_uri": "https://localhost:8080/"
        },
        "id": "JtIb3LwHNrjz",
        "outputId": "f06966d0-8f4e-4e54-f886-5bcfac200278"
      },
      "source": [
        "Y_test"
      ],
      "execution_count": 34,
      "outputs": [
        {
          "output_type": "execute_result",
          "data": {
            "text/plain": [
              "dtype('int64')"
            ]
          },
          "metadata": {
            "tags": []
          },
          "execution_count": 34
        }
      ]
    },
    {
      "cell_type": "code",
      "metadata": {
        "colab": {
          "base_uri": "https://localhost:8080/"
        },
        "id": "QCSDYfdFze3y",
        "outputId": "93a6f4e2-5a80-4a8d-8d11-380e6570a011"
      },
      "source": [
        "print(\"Predicted output\",y_pred[:10])\r\n",
        "print(\"Actual output   \",y_test[:10])"
      ],
      "execution_count": 35,
      "outputs": [
        {
          "output_type": "stream",
          "text": [
            "Predicted output [0, 0, 1, 1, 0, 0, 0, 0, 0, 1]\n",
            "Actual output    [0 0 1 1 0 0 0 0 1 1]\n"
          ],
          "name": "stdout"
        }
      ]
    },
    {
      "cell_type": "code",
      "metadata": {
        "colab": {
          "base_uri": "https://localhost:8080/"
        },
        "id": "MlAfSLg6zh_O",
        "outputId": "281dae62-b84f-4f32-86d1-05dfee076a60"
      },
      "source": [
        "print(classification_report(y_test,y_pred))"
      ],
      "execution_count": 36,
      "outputs": [
        {
          "output_type": "stream",
          "text": [
            "              precision    recall  f1-score   support\n",
            "\n",
            "           0       0.91      0.87      0.89      1302\n",
            "           1       0.90      0.94      0.92      1646\n",
            "\n",
            "    accuracy                           0.91      2948\n",
            "   macro avg       0.91      0.90      0.90      2948\n",
            "weighted avg       0.91      0.91      0.91      2948\n",
            "\n"
          ],
          "name": "stdout"
        }
      ]
    },
    {
      "cell_type": "code",
      "metadata": {
        "colab": {
          "base_uri": "https://localhost:8080/",
          "height": 296
        },
        "id": "WREIhO0q0wfR",
        "outputId": "590191e0-9c8d-46fe-f5e3-127ea2d86eca"
      },
      "source": [
        "import seaborn as sn\r\n",
        "cm = tf.math.confusion_matrix(labels=y_test,predictions=y_pred)\r\n",
        "\r\n",
        "plt.figure(figsize = (6,4))\r\n",
        "sn.heatmap(cm, annot=True, fmt='d')\r\n",
        "plt.xlabel('Predicted')\r\n",
        "plt.ylabel('Truth')"
      ],
      "execution_count": 37,
      "outputs": [
        {
          "output_type": "execute_result",
          "data": {
            "text/plain": [
              "Text(33.0, 0.5, 'Truth')"
            ]
          },
          "metadata": {
            "tags": []
          },
          "execution_count": 37
        },
        {
          "output_type": "display_data",
          "data": {
            "image/png": "[encoded data removed]",
            "text/plain": [
              "<Figure size 432x288 with 2 Axes>"
            ]
          },
          "metadata": {
            "tags": [],
            "needs_background": "light"
          }
        }
      ]
    },
    {
      "cell_type": "markdown",
      "metadata": {
        "id": "0MPBrpfOg0cV"
      },
      "source": [
        "#Build a model using machine learning algorithms"
      ]
    },
    {
      "cell_type": "code",
      "metadata": {
        "id": "cVbAnpxQ1L27"
      },
      "source": [
        "#fit model\r\n",
        "from sklearn.linear_model import LogisticRegression\r\n",
        "from sklearn import svm\r\n",
        "from sklearn.preprocessing import PolynomialFeatures\r\n",
        "from sklearn.neighbors import KNeighborsClassifier \r\n",
        "from sklearn.ensemble import RandomForestClassifier\r\n",
        "from xgboost import XGBClassifier\r\n",
        "from sklearn.model_selection import GridSearchCV,StratifiedKFold\r\n",
        "from sklearn.naive_bayes import GaussianNB  \r\n",
        "from sklearn.linear_model import SGDClassifier\r\n",
        "\r\n",
        "# Scoring functions\r\n",
        "from sklearn.metrics import accuracy_score\r\n",
        "from sklearn.metrics import classification_report\r\n",
        "from sklearn.model_selection import cross_val_score\r\n",
        "from sklearn.metrics import accuracy_score\r\n",
        "from sklearn.metrics import roc_auc_score\r\n",
        "from sklearn.metrics import roc_curve\r\n",
        "\r\n",
        "def get_auc_scores(y_actual, method,method2):\r\n",
        "    auc_score = roc_auc_score(y_actual, method); \r\n",
        "    fpr_df, tpr_df, _ = roc_curve(y_actual, method2); \r\n",
        "    return (auc_score, fpr_df, tpr_df)"
      ],
      "execution_count": 38,
      "outputs": []
    },
    {
      "cell_type": "markdown",
      "metadata": {
        "id": "mg-mRAbohJzj"
      },
      "source": [
        "##logistics regression"
      ]
    },
    {
      "cell_type": "code",
      "metadata": {
        "colab": {
          "base_uri": "https://localhost:8080/"
        },
        "id": "VxZfYu89mCJw",
        "outputId": "1cdc26fa-7047-48c8-a1ed-8306cccb8d0b"
      },
      "source": [
        "log_reg=LogisticRegression(C=20)\r\n",
        "log_reg.fit(x_train,y_train)"
      ],
      "execution_count": 39,
      "outputs": [
        {
          "output_type": "execute_result",
          "data": {
            "text/plain": [
              "LogisticRegression(C=20, class_weight=None, dual=False, fit_intercept=True,\n",
              "                   intercept_scaling=1, l1_ratio=None, max_iter=100,\n",
              "                   multi_class='auto', n_jobs=None, penalty='l2',\n",
              "                   random_state=None, solver='lbfgs', tol=0.0001, verbose=0,\n",
              "                   warm_start=False)"
            ]
          },
          "metadata": {
            "tags": []
          },
          "execution_count": 39
        }
      ]
    },
    {
      "cell_type": "code",
      "metadata": {
        "id": "jv6dX1ILyGoC"
      },
      "source": [
        "y_pred_lg = log_reg.predict(x_train)\r\n"
      ],
      "execution_count": 40,
      "outputs": []
    },
    {
      "cell_type": "code",
      "metadata": {
        "colab": {
          "base_uri": "https://localhost:8080/"
        },
        "id": "ZItoeV5WcGo8",
        "outputId": "66acbfe7-8122-48b1-8217-5495fc7b7577"
      },
      "source": [
        "print(classification_report(y_train, y_pred_lg))"
      ],
      "execution_count": 41,
      "outputs": [
        {
          "output_type": "stream",
          "text": [
            "              precision    recall  f1-score   support\n",
            "\n",
            "           0       0.76      0.73      0.74      3812\n",
            "           1       0.80      0.82      0.81      5031\n",
            "\n",
            "    accuracy                           0.78      8843\n",
            "   macro avg       0.78      0.78      0.78      8843\n",
            "weighted avg       0.78      0.78      0.78      8843\n",
            "\n"
          ],
          "name": "stdout"
        }
      ]
    },
    {
      "cell_type": "markdown",
      "metadata": {
        "id": "xPRdESTLpEyk"
      },
      "source": [
        "##Logistic regression using degree=2 "
      ]
    },
    {
      "cell_type": "code",
      "metadata": {
        "colab": {
          "base_uri": "https://localhost:8080/"
        },
        "id": "tNpmHa5YpDyd",
        "outputId": "d7f8df18-7e98-47f5-81b8-16bbb0175f46"
      },
      "source": [
        "poly=PolynomialFeatures(degree=2, interaction_only=False, include_bias=False)\r\n",
        "x_poly_lg2 = poly.fit_transform(x_train)\r\n",
        "log_reg2 = LogisticRegression()\r\n",
        "log_reg2.fit(x_poly_lg2,y_train)"
      ],
      "execution_count": 42,
      "outputs": [
        {
          "output_type": "stream",
          "text": [
            "/usr/local/lib/python3.6/dist-packages/sklearn/linear_model/_logistic.py:940: ConvergenceWarning: lbfgs failed to converge (status=1):\n",
            "STOP: TOTAL NO. of ITERATIONS REACHED LIMIT.\n",
            "\n",
            "Increase the number of iterations (max_iter) or scale the data as shown in:\n",
            "    https://scikit-learn.org/stable/modules/preprocessing.html\n",
            "Please also refer to the documentation for alternative solver options:\n",
            "    https://scikit-learn.org/stable/modules/linear_model.html#logistic-regression\n",
            "  extra_warning_msg=_LOGISTIC_SOLVER_CONVERGENCE_MSG)\n"
          ],
          "name": "stderr"
        },
        {
          "output_type": "execute_result",
          "data": {
            "text/plain": [
              "LogisticRegression(C=1.0, class_weight=None, dual=False, fit_intercept=True,\n",
              "                   intercept_scaling=1, l1_ratio=None, max_iter=100,\n",
              "                   multi_class='auto', n_jobs=None, penalty='l2',\n",
              "                   random_state=None, solver='lbfgs', tol=0.0001, verbose=0,\n",
              "                   warm_start=False)"
            ]
          },
          "metadata": {
            "tags": []
          },
          "execution_count": 42
        }
      ]
    },
    {
      "cell_type": "code",
      "metadata": {
        "id": "8i2jJ9M3E8sd"
      },
      "source": [
        "y_pred_lg2=log_reg2.predict(poly.transform(x_train))"
      ],
      "execution_count": 43,
      "outputs": []
    },
    {
      "cell_type": "code",
      "metadata": {
        "colab": {
          "base_uri": "https://localhost:8080/"
        },
        "id": "y2da65RRsrHx",
        "outputId": "05ef4374-0b00-4262-8488-6e2b2ed1670c"
      },
      "source": [
        "print(classification_report(y_train, y_pred_lg2))"
      ],
      "execution_count": 44,
      "outputs": [
        {
          "output_type": "stream",
          "text": [
            "              precision    recall  f1-score   support\n",
            "\n",
            "           0       0.83      0.84      0.84      3812\n",
            "           1       0.88      0.87      0.87      5031\n",
            "\n",
            "    accuracy                           0.86      8843\n",
            "   macro avg       0.86      0.86      0.86      8843\n",
            "weighted avg       0.86      0.86      0.86      8843\n",
            "\n"
          ],
          "name": "stdout"
        }
      ]
    },
    {
      "cell_type": "markdown",
      "metadata": {
        "id": "x71h614X-jPY"
      },
      "source": [
        "##Random forest algorithm\r\n",
        "\r\n"
      ]
    },
    {
      "cell_type": "code",
      "metadata": {
        "colab": {
          "base_uri": "https://localhost:8080/"
        },
        "id": "YTwaWYQk9rKP",
        "outputId": "f4f3176a-c116-4c7f-86d5-f3a490220468"
      },
      "source": [
        "rand_forest= RandomForestClassifier(bootstrap=True, class_weight=None, criterion='gini',max_depth=8, max_features=6, max_leaf_nodes=None,min_impurity_decrease=0.0,\r\n",
        "                            min_impurity_split=None,min_samples_leaf=1, min_samples_split=3,min_weight_fraction_leaf=0.0, n_estimators=1000, n_jobs=None,\r\n",
        "                            oob_score=False, random_state=None, verbose=0,warm_start=False)\r\n",
        "rand_forest.fit(x_train, y_train)\r\n",
        "\r\n"
      ],
      "execution_count": 45,
      "outputs": [
        {
          "output_type": "execute_result",
          "data": {
            "text/plain": [
              "RandomForestClassifier(bootstrap=True, ccp_alpha=0.0, class_weight=None,\n",
              "                       criterion='gini', max_depth=8, max_features=6,\n",
              "                       max_leaf_nodes=None, max_samples=None,\n",
              "                       min_impurity_decrease=0.0, min_impurity_split=None,\n",
              "                       min_samples_leaf=1, min_samples_split=3,\n",
              "                       min_weight_fraction_leaf=0.0, n_estimators=1000,\n",
              "                       n_jobs=None, oob_score=False, random_state=None,\n",
              "                       verbose=0, warm_start=False)"
            ]
          },
          "metadata": {
            "tags": []
          },
          "execution_count": 45
        }
      ]
    },
    {
      "cell_type": "code",
      "metadata": {
        "colab": {
          "base_uri": "https://localhost:8080/"
        },
        "id": "uOyK8x2-0IT-",
        "outputId": "3b3c663e-52c7-44b6-facd-cae71de8848d"
      },
      "source": [
        "y_pred_rf = rand_forest.predict(x_train)\r\n",
        "rf_cvs=cross_val_score(rand_forest,x_train,y_train,scoring='accuracy')\r\n",
        "print(rf_cvs)"
      ],
      "execution_count": 46,
      "outputs": [
        {
          "output_type": "stream",
          "text": [
            "[0.90559638 0.89768231 0.91916337 0.89875566 0.91572398]\n"
          ],
          "name": "stdout"
        }
      ]
    },
    {
      "cell_type": "code",
      "metadata": {
        "colab": {
          "base_uri": "https://localhost:8080/"
        },
        "id": "mNuWdThKZEku",
        "outputId": "49502b5c-2766-4337-fb7f-dc983a2db515"
      },
      "source": [
        "print(classification_report(y_train, y_pred_rf))"
      ],
      "execution_count": 47,
      "outputs": [
        {
          "output_type": "stream",
          "text": [
            "              precision    recall  f1-score   support\n",
            "\n",
            "           0       0.91      0.92      0.92      3812\n",
            "           1       0.94      0.94      0.94      5031\n",
            "\n",
            "    accuracy                           0.93      8843\n",
            "   macro avg       0.93      0.93      0.93      8843\n",
            "weighted avg       0.93      0.93      0.93      8843\n",
            "\n"
          ],
          "name": "stdout"
        }
      ]
    },
    {
      "cell_type": "markdown",
      "metadata": {
        "id": "8fLbETBHavDt"
      },
      "source": [
        "##XGBoost Algorithm"
      ]
    },
    {
      "cell_type": "code",
      "metadata": {
        "colab": {
          "base_uri": "https://localhost:8080/"
        },
        "id": "Hg9JpOzIap5m",
        "outputId": "88b932bc-584e-4937-eac6-192fafa28b83"
      },
      "source": [
        "XGBoost= XGBClassifier(n_estimators=100)\r\n",
        "XGBoost.fit(x_train, y_train)"
      ],
      "execution_count": 48,
      "outputs": [
        {
          "output_type": "execute_result",
          "data": {
            "text/plain": [
              "XGBClassifier(base_score=0.5, booster='gbtree', colsample_bylevel=1,\n",
              "              colsample_bynode=1, colsample_bytree=1, gamma=0,\n",
              "              learning_rate=0.1, max_delta_step=0, max_depth=3,\n",
              "              min_child_weight=1, missing=None, n_estimators=100, n_jobs=1,\n",
              "              nthread=None, objective='binary:logistic', random_state=0,\n",
              "              reg_alpha=0, reg_lambda=1, scale_pos_weight=1, seed=None,\n",
              "              silent=None, subsample=1, verbosity=1)"
            ]
          },
          "metadata": {
            "tags": []
          },
          "execution_count": 48
        }
      ]
    },
    {
      "cell_type": "code",
      "metadata": {
        "id": "_8pAmrY2FjLn"
      },
      "source": [
        "y_pred_xgb = XGBoost.predict(x_train)\r\n",
        "\r\n"
      ],
      "execution_count": 49,
      "outputs": []
    },
    {
      "cell_type": "code",
      "metadata": {
        "colab": {
          "base_uri": "https://localhost:8080/"
        },
        "id": "PnTa8ccordC-",
        "outputId": "0e0ef311-35d0-4a83-831e-ce66243cdc4d"
      },
      "source": [
        "print(classification_report(y_train, y_pred_xgb))"
      ],
      "execution_count": 50,
      "outputs": [
        {
          "output_type": "stream",
          "text": [
            "              precision    recall  f1-score   support\n",
            "\n",
            "           0       0.91      0.91      0.91      3812\n",
            "           1       0.93      0.93      0.93      5031\n",
            "\n",
            "    accuracy                           0.92      8843\n",
            "   macro avg       0.92      0.92      0.92      8843\n",
            "weighted avg       0.92      0.92      0.92      8843\n",
            "\n"
          ],
          "name": "stdout"
        }
      ]
    },
    {
      "cell_type": "markdown",
      "metadata": {
        "id": "lI1Q1kpI07Ox"
      },
      "source": [
        "##Support vector machine"
      ]
    },
    {
      "cell_type": "code",
      "metadata": {
        "id": "F-NpKGyJ0-AA",
        "colab": {
          "base_uri": "https://localhost:8080/"
        },
        "outputId": "b446604b-54cc-4f7e-b32f-eb98b0d8ecce"
      },
      "source": [
        "SVM = svm.SVC(C=250, cache_size=200, class_weight=None, coef0=0.0,  decision_function_shape='ovr', degree=2, gamma=0.1, kernel='poly',  max_iter=-1,\r\n",
        "              probability=True, random_state=None, shrinking=True, tol=0.001, verbose=False)\r\n",
        "SVM.fit(x_train,y_train)"
      ],
      "execution_count": 51,
      "outputs": [
        {
          "output_type": "execute_result",
          "data": {
            "text/plain": [
              "SVC(C=250, break_ties=False, cache_size=200, class_weight=None, coef0=0.0,\n",
              "    decision_function_shape='ovr', degree=2, gamma=0.1, kernel='poly',\n",
              "    max_iter=-1, probability=True, random_state=None, shrinking=True, tol=0.001,\n",
              "    verbose=False)"
            ]
          },
          "metadata": {
            "tags": []
          },
          "execution_count": 51
        }
      ]
    },
    {
      "cell_type": "code",
      "metadata": {
        "id": "DoQt2U6O0ebw"
      },
      "source": [
        "y_pred_svm = SVM.predict(x_train)"
      ],
      "execution_count": 52,
      "outputs": []
    },
    {
      "cell_type": "code",
      "metadata": {
        "colab": {
          "base_uri": "https://localhost:8080/"
        },
        "id": "4NOy2N3Wdb_e",
        "outputId": "3866fd05-4069-4101-d94f-b230d555bc91"
      },
      "source": [
        "print(classification_report(y_train, y_pred_svm))"
      ],
      "execution_count": 53,
      "outputs": [
        {
          "output_type": "stream",
          "text": [
            "              precision    recall  f1-score   support\n",
            "\n",
            "           0       0.84      0.85      0.84      3812\n",
            "           1       0.88      0.88      0.88      5031\n",
            "\n",
            "    accuracy                           0.86      8843\n",
            "   macro avg       0.86      0.86      0.86      8843\n",
            "weighted avg       0.86      0.86      0.86      8843\n",
            "\n"
          ],
          "name": "stdout"
        }
      ]
    },
    {
      "cell_type": "markdown",
      "metadata": {
        "id": "wq5aLeo77GUX"
      },
      "source": [
        "##KNN Classifier"
      ]
    },
    {
      "cell_type": "code",
      "metadata": {
        "colab": {
          "base_uri": "https://localhost:8080/"
        },
        "id": "3B28zMgu57F3",
        "outputId": "024b4820-1f81-4f6a-98bc-2203136d5630"
      },
      "source": [
        "knn_classifier= KNeighborsClassifier(n_neighbors=9, metric='minkowski', p=2 )  \r\n",
        "knn_classifier.fit(x_train, y_train)  "
      ],
      "execution_count": 54,
      "outputs": [
        {
          "output_type": "execute_result",
          "data": {
            "text/plain": [
              "KNeighborsClassifier(algorithm='auto', leaf_size=30, metric='minkowski',\n",
              "                     metric_params=None, n_jobs=None, n_neighbors=9, p=2,\n",
              "                     weights='uniform')"
            ]
          },
          "metadata": {
            "tags": []
          },
          "execution_count": 54
        }
      ]
    },
    {
      "cell_type": "code",
      "metadata": {
        "id": "af0LuxWF01MK"
      },
      "source": [
        "y_pred_knn = knn_classifier.predict(x_train)"
      ],
      "execution_count": 55,
      "outputs": []
    },
    {
      "cell_type": "code",
      "metadata": {
        "colab": {
          "base_uri": "https://localhost:8080/"
        },
        "id": "cglK2kr_7Mfw",
        "outputId": "f0756608-14fd-4e28-9234-70def7e59cb0"
      },
      "source": [
        "print(classification_report(y_train, y_pred_knn))"
      ],
      "execution_count": 56,
      "outputs": [
        {
          "output_type": "stream",
          "text": [
            "              precision    recall  f1-score   support\n",
            "\n",
            "           0       0.95      0.90      0.93      3812\n",
            "           1       0.93      0.97      0.95      5031\n",
            "\n",
            "    accuracy                           0.94      8843\n",
            "   macro avg       0.94      0.93      0.94      8843\n",
            "weighted avg       0.94      0.94      0.94      8843\n",
            "\n"
          ],
          "name": "stdout"
        }
      ]
    },
    {
      "cell_type": "markdown",
      "metadata": {
        "id": "I9Qy4lx7meBQ"
      },
      "source": [
        "##Naive Bayes"
      ]
    },
    {
      "cell_type": "code",
      "metadata": {
        "colab": {
          "base_uri": "https://localhost:8080/"
        },
        "id": "hnU2QXIwmlK7",
        "outputId": "57cd92dd-ca8a-4969-a9d9-d092db25a40d"
      },
      "source": [
        "nb_classifier = GaussianNB()  \r\n",
        "nb_classifier.fit(x_train, y_train)  "
      ],
      "execution_count": 57,
      "outputs": [
        {
          "output_type": "execute_result",
          "data": {
            "text/plain": [
              "GaussianNB(priors=None, var_smoothing=1e-09)"
            ]
          },
          "metadata": {
            "tags": []
          },
          "execution_count": 57
        }
      ]
    },
    {
      "cell_type": "code",
      "metadata": {
        "id": "EPP3m06g1FcS"
      },
      "source": [
        "y_pred_nb = nb_classifier.predict(x_train)"
      ],
      "execution_count": 58,
      "outputs": []
    },
    {
      "cell_type": "code",
      "metadata": {
        "colab": {
          "base_uri": "https://localhost:8080/"
        },
        "id": "6FCidAM_oDTM",
        "outputId": "e99ace05-cdc3-470d-f0a5-077c7a707a46"
      },
      "source": [
        "print(classification_report(y_train, y_pred_nb))"
      ],
      "execution_count": 59,
      "outputs": [
        {
          "output_type": "stream",
          "text": [
            "              precision    recall  f1-score   support\n",
            "\n",
            "           0       0.74      0.78      0.76      3812\n",
            "           1       0.83      0.79      0.81      5031\n",
            "\n",
            "    accuracy                           0.78      8843\n",
            "   macro avg       0.78      0.78      0.78      8843\n",
            "weighted avg       0.79      0.78      0.78      8843\n",
            "\n"
          ],
          "name": "stdout"
        }
      ]
    },
    {
      "cell_type": "markdown",
      "metadata": {
        "id": "q6SzieF14u1k"
      },
      "source": [
        "##Stochastic Gradient Descent (SGD)"
      ]
    },
    {
      "cell_type": "code",
      "metadata": {
        "colab": {
          "base_uri": "https://localhost:8080/"
        },
        "id": "13_XwcrI4udm",
        "outputId": "0c45a597-8a38-4f34-b3c9-c04521633769"
      },
      "source": [
        "sgd_classifier = SGDClassifier(loss=\"log\", penalty=\"l2\", max_iter=9)\r\n",
        "sgd_classifier.fit(x_train, y_train)"
      ],
      "execution_count": 60,
      "outputs": [
        {
          "output_type": "stream",
          "text": [
            "/usr/local/lib/python3.6/dist-packages/sklearn/linear_model/_stochastic_gradient.py:557: ConvergenceWarning: Maximum number of iteration reached before convergence. Consider increasing max_iter to improve the fit.\n",
            "  ConvergenceWarning)\n"
          ],
          "name": "stderr"
        },
        {
          "output_type": "execute_result",
          "data": {
            "text/plain": [
              "SGDClassifier(alpha=0.0001, average=False, class_weight=None,\n",
              "              early_stopping=False, epsilon=0.1, eta0=0.0, fit_intercept=True,\n",
              "              l1_ratio=0.15, learning_rate='optimal', loss='log', max_iter=9,\n",
              "              n_iter_no_change=5, n_jobs=None, penalty='l2', power_t=0.5,\n",
              "              random_state=None, shuffle=True, tol=0.001,\n",
              "              validation_fraction=0.1, verbose=0, warm_start=False)"
            ]
          },
          "metadata": {
            "tags": []
          },
          "execution_count": 60
        }
      ]
    },
    {
      "cell_type": "code",
      "metadata": {
        "id": "FZLCkVcp5Oof"
      },
      "source": [
        "y_pred_sgd = sgd_classifier.predict(x_train)\r\n"
      ],
      "execution_count": 61,
      "outputs": []
    },
    {
      "cell_type": "code",
      "metadata": {
        "colab": {
          "base_uri": "https://localhost:8080/"
        },
        "id": "iVeseS416ajG",
        "outputId": "a6bf1f2e-3cf3-4d2f-ea7c-c1df0c33a390"
      },
      "source": [
        "print(classification_report(y_train, y_pred_sgd))"
      ],
      "execution_count": 62,
      "outputs": [
        {
          "output_type": "stream",
          "text": [
            "              precision    recall  f1-score   support\n",
            "\n",
            "           0       0.75      0.73      0.74      3812\n",
            "           1       0.80      0.82      0.81      5031\n",
            "\n",
            "    accuracy                           0.78      8843\n",
            "   macro avg       0.78      0.77      0.77      8843\n",
            "weighted avg       0.78      0.78      0.78      8843\n",
            "\n"
          ],
          "name": "stdout"
        }
      ]
    },
    {
      "cell_type": "markdown",
      "metadata": {
        "id": "v26EB6deg5HW"
      },
      "source": [
        "#Plotting ROC Score"
      ]
    },
    {
      "cell_type": "code",
      "metadata": {
        "id": "CnA2phPEoiPl"
      },
      "source": [
        "X_pol2 = x_poly_lg2 \r\n",
        "auc_log_primal, fpr_log_primal, tpr_log_primal = get_auc_scores(y_train, log_reg.predict(x_train),log_reg.predict_proba(x_train)[:,1])\r\n",
        "auc_log_pol2, fpr_log_pol2, tpr_log_pol2 = get_auc_scores(y_train, log_reg2.predict(X_pol2),log_reg2.predict_proba(X_pol2)[:,1])\r\n",
        "auc_SVM, fpr_SVM, tpr_SVM = get_auc_scores(y_train, SVM.predict(x_train),SVM.predict_proba(x_train)[:,1])\r\n",
        "auc_RF, fpr_RF, tpr_RF = get_auc_scores(y_train, rand_forest.predict(x_train),rand_forest.predict_proba(x_train)[:,1])\r\n",
        "auc_KNN, fpr_KNN, tpr_KNN = get_auc_scores(y_train, knn_classifier.predict(x_train),knn_classifier.predict_proba(x_train)[:,1])\r\n",
        "auc_XGB, fpr_XGB, tpr_XGB = get_auc_scores(y_train, XGBoost.predict(x_train),XGBoost.predict_proba(x_train)[:,1])\r\n",
        "auc_SGD, fpr_SGD, tpr_SGD = get_auc_scores(y_train, sgd_classifier.predict(x_train),sgd_classifier.predict_proba(x_train)[:,1])\r\n",
        "auc_NB, fpr_NB, tpr_NB = get_auc_scores(y_train, nb_classifier.predict(x_train),nb_classifier.predict_proba(x_train)[:,1])"
      ],
      "execution_count": 63,
      "outputs": []
    },
    {
      "cell_type": "code",
      "metadata": {
        "colab": {
          "base_uri": "https://localhost:8080/",
          "height": 404
        },
        "id": "UiaXCNtpokgw",
        "outputId": "f61f0a5f-82bd-466f-e5bf-19279f1011a7"
      },
      "source": [
        "plt.figure(figsize = (12,6), linewidth= 1)\r\n",
        "plt.plot(fpr_log_primal, tpr_log_primal, label = 'log regression Score: ' + str(round(auc_log_primal, 5)))\r\n",
        "plt.plot(fpr_log_pol2, tpr_log_pol2, label = 'log regression pol2 score: ' + str(round(auc_log_pol2, 5)))\r\n",
        "plt.plot(fpr_SVM, tpr_SVM, label = 'SVM Score: ' + str(round(auc_SVM, 5)))\r\n",
        "plt.plot(fpr_KNN, tpr_KNN, label = 'KNN classifier Score: ' + str(round(auc_KNN, 5)))\r\n",
        "plt.plot(fpr_RF, tpr_RF, label = 'RF score: ' + str(round(auc_RF, 5)))\r\n",
        "plt.plot(fpr_XGB, tpr_XGB, label = 'XGB score: ' + str(round(auc_XGB, 5)))\r\n",
        "plt.plot(fpr_NB, tpr_NB, label = 'Naive Bayes score: ' + str(round(auc_NB, 5)))\r\n",
        "plt.plot(fpr_SGD, tpr_SGD, label = 'SGD score: ' + str(round(auc_SGD, 5)))\r\n",
        "plt.plot([0,1], [0,1], 'k--', label = 'Random: 0.5')\r\n",
        "plt.xlabel('False positive rate')\r\n",
        "plt.ylabel('True positive rate')\r\n",
        "plt.title('ROC Curve')\r\n",
        "plt.legend(loc='best')\r\n",
        "plt.show()"
      ],
      "execution_count": 64,
      "outputs": [
        {
          "output_type": "display_data",
          "data": {
            "image/png": "[encoded data removed]",
            "text/plain": [
              "<Figure size 864x432 with 1 Axes>"
            ]
          },
          "metadata": {
            "tags": [],
            "needs_background": "light"
          }
        }
      ]
    },
    {
      "cell_type": "code",
      "metadata": {
        "colab": {
          "base_uri": "https://localhost:8080/",
          "height": 297
        },
        "id": "LZXOT73oPL6v",
        "outputId": "9d3f46be-9cba-4a96-b989-1272ab34b550"
      },
      "source": [
        "p = {'Model': ['Random Forest', 'Logistic Regression', 'Logistic Regression degree 2', 'SVM','XGBoost','KNN classifier','Naive Bayes','SGD Classifier'],\r\n",
        "     'ROC Score' : [ auc_RF,auc_log_primal, auc_log_pol2, auc_SVM, auc_XGB,auc_KNN,auc_NB,auc_SGD]}\r\n",
        "\r\n",
        "ROCScore_result_df = pd.DataFrame(data = p)\r\n",
        "ROCScore_result_df"
      ],
      "execution_count": 65,
      "outputs": [
        {
          "output_type": "execute_result",
          "data": {
            "text/html": [
              "<div>\n",
              "<style scoped>\n",
              "    .dataframe tbody tr th:only-of-type {\n",
              "        vertical-align: middle;\n",
              "    }\n",
              "\n",
              "    .dataframe tbody tr th {\n",
              "        vertical-align: top;\n",
              "    }\n",
              "\n",
              "    .dataframe thead th {\n",
              "        text-align: right;\n",
              "    }\n",
              "</style>\n",
              "<table border=\"1\" class=\"dataframe\">\n",
              "  <thead>\n",
              "    <tr style=\"text-align: right;\">\n",
              "      <th></th>\n",
              "      <th>Model</th>\n",
              "      <th>ROC Score</th>\n",
              "    </tr>\n",
              "  </thead>\n",
              "  <tbody>\n",
              "    <tr>\n",
              "      <th>0</th>\n",
              "      <td>Random Forest</td>\n",
              "      <td>0.927071</td>\n",
              "    </tr>\n",
              "    <tr>\n",
              "      <th>1</th>\n",
              "      <td>Logistic Regression</td>\n",
              "      <td>0.776437</td>\n",
              "    </tr>\n",
              "    <tr>\n",
              "      <th>2</th>\n",
              "      <td>Logistic Regression degree 2</td>\n",
              "      <td>0.855692</td>\n",
              "    </tr>\n",
              "    <tr>\n",
              "      <th>3</th>\n",
              "      <td>SVM</td>\n",
              "      <td>0.862251</td>\n",
              "    </tr>\n",
              "    <tr>\n",
              "      <th>4</th>\n",
              "      <td>XGBoost</td>\n",
              "      <td>0.921057</td>\n",
              "    </tr>\n",
              "    <tr>\n",
              "      <th>5</th>\n",
              "      <td>KNN classifier</td>\n",
              "      <td>0.932940</td>\n",
              "    </tr>\n",
              "    <tr>\n",
              "      <th>6</th>\n",
              "      <td>Naive Bayes</td>\n",
              "      <td>0.783938</td>\n",
              "    </tr>\n",
              "    <tr>\n",
              "      <th>7</th>\n",
              "      <td>SGD Classifier</td>\n",
              "      <td>0.773189</td>\n",
              "    </tr>\n",
              "  </tbody>\n",
              "</table>\n",
              "</div>"
            ],
            "text/plain": [
              "                          Model  ROC Score\n",
              "0                 Random Forest   0.927071\n",
              "1           Logistic Regression   0.776437\n",
              "2  Logistic Regression degree 2   0.855692\n",
              "3                           SVM   0.862251\n",
              "4                       XGBoost   0.921057\n",
              "5                KNN classifier   0.932940\n",
              "6                   Naive Bayes   0.783938\n",
              "7                SGD Classifier   0.773189"
            ]
          },
          "metadata": {
            "tags": []
          },
          "execution_count": 65
        }
      ]
    },
    {
      "cell_type": "code",
      "metadata": {
        "colab": {
          "base_uri": "https://localhost:8080/",
          "height": 500
        },
        "id": "_7-blqR9URNe",
        "outputId": "a3254242-c9a8-4888-f1eb-938cfc191c07"
      },
      "source": [
        "ROCScore_result_df.plot(x='Model',kind='barh', figsize=(8, 8)).set_xlim([0,1.0])"
      ],
      "execution_count": 66,
      "outputs": [
        {
          "output_type": "execute_result",
          "data": {
            "text/plain": [
              "(0.0, 1.0)"
            ]
          },
          "metadata": {
            "tags": []
          },
          "execution_count": 66
        },
        {
          "output_type": "display_data",
          "data": {
            "image/png": "[encoded data removed]",
            "text/plain": [
              "<Figure size 576x576 with 1 Axes>"
            ]
          },
          "metadata": {
            "tags": [],
            "needs_background": "light"
          }
        }
      ]
    },
    {
      "cell_type": "markdown",
      "metadata": {
        "id": "hZr-PuUHzBlB"
      },
      "source": [
        "**Conclusion:**\r\n",
        "\r\n",
        "From the above result, main aim of churn prediction is to predict the customer that will possibly churn so as bank can keep some scheme to prevent it hence recall measures on the 1's (Exited=1) is more important than overall score of the model. Also as dataset in unbalanced dataset we will have to check precision, recall rather than accuracy.\r\n",
        "\r\n",
        "In given dataset, only 20% of data is of churn(Exited = 1), that means recall greater than this baseline is already a improvement but we want to get as high as possible while trying to maintain a high precision so that the bank can train its resources effectively towards clients highlighted by the model without wasting too much resources on the false positives (i.e the one who is not exited is predicted as exited).\r\n",
        "\r\n",
        "From the review of the fitted models above, the best model that gives a decent balance of the recall and precision is the **KNN Classifier** where according to the fit on the training set, with a precision score on 1's of 0.93, out of all customers that the model thinks will churn, 93% do actually churn and with the recall score of 0.97 on the 1's, the model is able to highlight 97% of all those who churned"
      ]
    },
    {
      "cell_type": "markdown",
      "metadata": {
        "id": "Ar5uVC2F30mN"
      },
      "source": [
        "##Model precision accuracy on test data"
      ]
    },
    {
      "cell_type": "code",
      "metadata": {
        "colab": {
          "base_uri": "https://localhost:8080/"
        },
        "id": "WjuTOWew9BVh",
        "outputId": "43ec4170-6efa-42d7-cc3b-50c33fe9e87d"
      },
      "source": [
        "ytest_pred_knn=knn_classifier.predict(x_test)\r\n",
        "print(classification_report(y_test, ytest_pred_knn))"
      ],
      "execution_count": 69,
      "outputs": [
        {
          "output_type": "stream",
          "text": [
            "              precision    recall  f1-score   support\n",
            "\n",
            "           0       0.94      0.87      0.91      1302\n",
            "           1       0.91      0.96      0.93      1646\n",
            "\n",
            "    accuracy                           0.92      2948\n",
            "   macro avg       0.92      0.91      0.92      2948\n",
            "weighted avg       0.92      0.92      0.92      2948\n",
            "\n"
          ],
          "name": "stdout"
        }
      ]
    },
    {
      "cell_type": "code",
      "metadata": {
        "colab": {
          "base_uri": "https://localhost:8080/",
          "height": 404
        },
        "id": "AnDRe--KixrQ",
        "outputId": "9b7897ff-7abe-467a-da14-92974917a0d0"
      },
      "source": [
        "auc_knn_test, fpr_knn_test, tpr_knn_test = get_auc_scores(y_test, knn_classifier.predict(x_test),knn_classifier.predict_proba(x_test)[:,1])\r\n",
        "plt.figure(figsize = (12,6), linewidth= 1)\r\n",
        "plt.plot(fpr_RF_test, tpr_RF_test, label = 'RF score: ' + str(round(auc_RF_test, 5)))\r\n",
        "plt.plot([0,1], [0,1], 'k--', label = 'Random: 0.5')\r\n",
        "plt.xlabel('False positive rate')\r\n",
        "plt.ylabel('True positive rate')\r\n",
        "plt.title('ROC Curve')\r\n",
        "plt.legend(loc='best')\r\n",
        "#plt.savefig('roc_results_ratios.png')\r\n",
        "plt.show()"
      ],
      "execution_count": 70,
      "outputs": [
        {
          "output_type": "display_data",
          "data": {
            "image/png": "[encoded data removed]",
            "text/plain": [
              "<Figure size 864x432 with 1 Axes>"
            ]
          },
          "metadata": {
            "tags": [],
            "needs_background": "light"
          }
        }
      ]
    },
    {
      "cell_type": "markdown",
      "metadata": {
        "id": "ckUX7dbN9PAp"
      },
      "source": [
        "The precision of the model on previousy unseen test data is slightly higher with regard to predicting 1's i.e. those customers that churn. However, in as much as the model has a high accuracy, it still misses about half of those who end up churning. This could be imprved by providing retraining the model with more data over time while in the meantime working with the model to save the 93% that would have churned."
      ]
    },
    {
      "cell_type": "markdown",
      "metadata": {
        "id": "zaPpBkuSSZpb"
      },
      "source": [
        "#Save Model"
      ]
    },
    {
      "cell_type": "code",
      "metadata": {
        "id": "5s1kqWTEL-E0"
      },
      "source": [
        "import pickle\r\n",
        "filename = \"model.sav\"\r\n"
      ],
      "execution_count": 73,
      "outputs": []
    },
    {
      "cell_type": "code",
      "metadata": {
        "id": "IJoZLQwQMQzy"
      },
      "source": [
        "pickle.dump(knn_classifier,open(filename,\"wb\"))"
      ],
      "execution_count": 74,
      "outputs": []
    },
    {
      "cell_type": "code",
      "metadata": {
        "id": "wJil2XSeNCVW"
      },
      "source": [
        "load_model=pickle.load(open(filename,'rb'))"
      ],
      "execution_count": 76,
      "outputs": []
    },
    {
      "cell_type": "code",
      "metadata": {
        "colab": {
          "base_uri": "https://localhost:8080/"
        },
        "id": "x3Ye0iBiNTL2",
        "outputId": "36d43241-3edd-4a16-9360-19d944e8197e"
      },
      "source": [
        "load_model.score(x_test,y_test)"
      ],
      "execution_count": 77,
      "outputs": [
        {
          "output_type": "execute_result",
          "data": {
            "text/plain": [
              "0.919606512890095"
            ]
          },
          "metadata": {
            "tags": []
          },
          "execution_count": 77
        }
      ]
    }
  ]
}